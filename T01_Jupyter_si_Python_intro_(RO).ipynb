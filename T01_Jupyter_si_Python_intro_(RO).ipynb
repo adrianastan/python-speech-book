{
 "cells": [
  {
   "cell_type": "markdown",
   "metadata": {
    "colab_type": "text",
    "id": "LcdQDzd1aZk-"
   },
   "source": [
    "# T00. Introducere în Jupyter și Python\n",
    "\n",
    "În acest prim tutorial ne vom familiariza cu principalele caracteristici ale limbajului de programare Python și a mediului Jupyter. \n",
    "\n",
    "Tutorialul acoperă doar funcționalitățile de bază ale Python și Jupyter. Documentația completă o puteți accesa din paginile web oficiale:\n",
    "\n",
    "- https://www.python.org/doc/\n",
    "- https://jupyter-notebook.readthedocs.io/en/5.7.4/"
   ]
  },
  {
   "cell_type": "markdown",
   "metadata": {
    "colab_type": "text",
    "id": "zLJaXFGRaZlA"
   },
   "source": [
    "# T00.1. Introducere în Jupyter "
   ]
  },
  {
   "cell_type": "markdown",
   "metadata": {
    "colab_type": "text",
    "id": "O5O1TX5JaZlA"
   },
   "source": [
    "Proiectul Jupyter este un mediu de programare  ce permite utilizatorilor să editeze și să execute secvențe de cod scrise în limbajul Python în mod *interactiv*. Jupyter rulează un server local și poate fi accesat prin intermediul browserului.\n",
    "\n",
    "\n",
    "Datorită flexibilității și ușurinței de utilizare, acesta a devenit principalul mediu de codare pentru Python, în special în aplicații de dezvoltare a algoritmilor de inteligență artificială/machine learning. Ca urmare, Google pune la dispoziția utilizatorilor săi o versiune proprie a proiectului Jupyter combinat cu acces la resurse computaționale sub denumirea de **Google Colab**: https://colab.research.google.com și care permite totodată conectarea la Google Drive pentru stocarea datelor. \n",
    "\n",
    "Toate tutorialele din cadrul acestei cărți pot fi rulate atât în serverul local cât și în Colab. Pentru a instala o suită completă de unelte software necesare utilizării Python și Jupyter pe mașina locală, se recomandă utilizarea framework-ului Anaconda: https://www.anaconda.com/. Este de menționat faptul că și Google Colab permite conectarea la resursele mașinii locale și nu doar pe serverele lor. Totodată, pentru o testare rapidă a codului se poate utiliza și site-ul https://try.jupyter.org, însă datele nu pot fi păstrate pe server. \n",
    "\n",
    "Organizarea codului în cadrul mediului Jupyter se face prin intermediul așa-numitelor *notebooks* (ro. caiete). Fiecare notebook reprezintă un mediu de sine stătător cu acces la resursele mașinii locale. În cadrul notebook-ului, codul este organizat în *celule* (en. *cell*). Fiecare celulă poate fi rulată individual și poate conține secvențe de cod de lungimi diferite, funcții, clase, etc. Celulele Jupyter sunt incluse însă în același domeniu de vizibilitate sau *namespace*. Acest lucru înseamnă că definirea unei variabile sau a unei funcții într-o celulă va face ca aceasta să fie disponibilă și în celălalte celule din cadrul aceluiași notebook. Trebuie să subliniem însă faptul că execuția codului trebuie să fie făcută secvențial. În sensul că dacă dorim ca o variabilă sau funcție să fie definită, va trebui să executăm mai întâi celula ce conține instrucțiunile necesare și doar mai apoi să executăm celule ce modifică sau utilizează aceste variabile sau funcții. \n",
    "\n",
    "Pe lângă celulele ce conțin cod, o altă funcționalitate a Jupyter este cea de celule text în cadrul cărora pot fi inserate comentarii sau explicații suplimentare referitoare la codul Python. Editarea textului este flexibilă și folosește notația Markdown: https://www.markdownguide.org/"
   ]
  },
  {
   "cell_type": "markdown",
   "metadata": {
    "colab_type": "text",
    "id": "rnV8FNtcaZlB"
   },
   "source": [
    "## 1.1. Mediul Jupyter local\n",
    "\n",
    "Odată pornit mediul Jupyter pe mașina locală, se va deschide automat o fereastră de navigator web. \n",
    "În partea de sus a ferestrei există un rând de opțiuni de meniu (`File`, `Edit`, `View`, `Insert`, ...) și un rând de icoane cu unelte (*dischetă, semnul plus, foarfece, fișiere*, etc.). Acestea pot fi utilizate pentru manipularea celulelor Jupyter și a codului sau a comentariilor din acesta. \n",
    "\n",
    "#### Inserare și ștergere celule\n",
    "\n",
    "- Iconița cu semnul plus - pentru a insera o nouă celulă sub cea curentă. Tipul celulei (cod sau text) poate fi modificat din meniul `Cell` -> `Cell Type`.\n",
    "- `Insert` -> `Insert Cell Above`  - pentru a insera o celulă deasupra celei curente.\n",
    "- `Edit` -> `Delete cells` - șterge celula curentă. Dacă sunt selectate mai multe celule, le șterge pe toate. \n",
    "\n",
    "#### Ștergere output celule\n",
    "\n",
    "- `Kernel` -> `Restart` din meniu pentru a restarta mediul de lucru. Atenție! Se vor șterge toate variabilele, definițiile de funcții și clase. Toate celulele vor trebui executate din nou.\n",
    "- `Kernel` -> `Restart and clear output` pentru a restarta notebook-ul și a șterge datele de execuție ale celulelor (output-ul). \n",
    "\n",
    "\n",
    "#### Salvare notebook \n",
    "\n",
    "- Toate notebook-urile sunt salvate automat în directorul unde este instalat Anaconda sau unde a fost stabilit în cadrul configurațiilor Anaconda ulterioare. \n",
    "- Dacă doriți salvarea într-un alt director, navigați la `File` -> `Download as` -> `IPython Notebook (.ipynb)` \n",
    "\n",
    "\n",
    "#### Comenzi rapide (shortcuts)\n",
    "- În al doilea rând de comenzi din bara de meniu, butonul sub formă de tastatură va afișa lista de comenzi rapide ce poate fi utilizată în notebook.\n",
    "<hr>"
   ]
  },
  {
   "cell_type": "markdown",
   "metadata": {
    "colab_type": "text",
    "id": "MbrwOyp-aZlC"
   },
   "source": [
    "# T00.2. Introducere în Python\n",
    "\n",
    "Python este un limbaj de programare de nivel înalt, cu scop general, de tip interpretor, ce pune accent pe lizibilitatea codului. Lizibilitatea este dată de faptul că identarea codului este obligatorie și că nu există un simbol specific pentru marcarea sfârșitului instrucțiunii. \n",
    "\n",
    "Un alt aspect important al limbajului Python este faptul că tipurile de date sunt determinate dinamic. Acest lucru înseamnă ca nu este necesară declararea unei variabile înainte a fi utilizată. Cu toate acestea, Python nu permite utilizarea operațiilor ce nu sunt bine definite asupra datelor (de exemplu adunarea unui număr la un string). O altă particularitate este dată de faptul că toate variabilele sunt obiecte și nu există tipuri de date primitive.  \n",
    "\n",
    "Din punct de vedere al managementului memoriei, Python include un management automat și dinamic. Totodată, permite utilizarea a mai multe paradigme programatice, precum cea orientată pe obiecte, imperativă, funcțională și procedurală și dispune de o bibliotecă standard extinsă. \n",
    "\n",
    "Datorită simplității și facilităților multiple, Python a devenit în ultimii ani unul dintre cele mai utilizate limbaje de programare în domeniul inteligenței artificiale și a prelucrărilor numerice.\n",
    "\n",
    "În secțiunile următoare vor indexa cele mai importante operații și instrucțiuni Python alături de exemple specifice. Pentru o listă completă a facilităților limbajului, accesați documentația oficială: https://www.python.org/doc/"
   ]
  },
  {
   "cell_type": "markdown",
   "metadata": {
    "colab_type": "text",
    "id": "UqfwgjzxaZlD"
   },
   "source": [
    "## 2.1. Obiecte, tipuri de date și variabile Python\n",
    "\n",
    "În Python toate datele sunt **obiecte** și fiecare obiect are un **tip**. Printre tipurile de bază se numără:\n",
    "\n",
    "- **`int`** (integer; număr întreg fără cifre zecimale)\n",
    "  - ex. `10`, `-3`\n",
    "- **`float`** (float; număr real cu zecimale)\n",
    "  - ex. `7.41`, `-0.006`\n",
    "- **`str`** (string; șir de caractere ce poate fi încadrat de apostrof, ghilimele sau ghilimele triple)\n",
    "  - `'this is a string using single quotes'`\n",
    "  - `\"this is a string using double quotes\"`\n",
    "  - `'''this is a triple quoted string using single quotes'''`\n",
    "  - `\"\"\"this is a triple quoted string using double quotes\"\"\"`\n",
    "- **`bool`** (boolean; valoare binară ce poate fi True sau False)\n",
    "  - `True`, `False`\n",
    "- **`NoneType`** (tip special de date ce marchează lipsa unei valori)\n",
    "  - `None`\n",
    "\n",
    "În Python, o **variabilă** este numele dat în cod unui **obiect** specific, unei **instanțe** de obiect sau unei valori.\n",
    "\n",
    "Prin definirea variabilelor, datele pot fi referite într-un limbaj mai apropiat de înțelegerea utilizatorului. **Numele variabilelor** poate conține doar litere, simbolul underscore (`_`) sau numere (fără spații, cratime, sau alte caractere). Numele variabilelor trebuie să înceapă cu o literă sau underscore și nu se recomandă utilizarea literelor mari. \n",
    "\n",
    "- ex. `adriana`, `adriana_stan`, `adriana123`, `a_stan_123`, `_adriana`\n",
    "\n",
    "Convenția de notare (https://www.python.org/dev/peps/pep-0008/) a variabilelor este de separare a cuvintelor prin underscore. Spre deosebire de alte limbaje unde se folosește notația camelcase, de exemplu în Java: `adrianaStan`."
   ]
  },
  {
   "cell_type": "markdown",
   "metadata": {
    "colab_type": "text",
    "id": "Zca2dUROaZlE"
   },
   "source": [
    "## 2.2. Operatori\n",
    "\n",
    "**Operatorii** sunt simboluri speciale ce operează asupra diferitelor valori din cod. Printre operatorii de bază se numără:\n",
    "\n",
    "- operatori aritmetici\n",
    "  - **`+`** (adunare)\n",
    "  - **`-`** (scădere)\n",
    "  - **`*`** (înmulțire)\n",
    "  - **`/`** (împărțire)\n",
    "  - __`**`__ (exponent, ridicare la putere)\n",
    "- operatori de atribuire\n",
    "  - **`=`** (atribuirea unei valori)\n",
    "  - **`+=`** (adunare și reatribuire; incrementare)\n",
    "  - **`-=`** (scădere și reatribuire; decrementare)\n",
    "  - **`*=`** (înmulțire și reatribuire)\n",
    "- operatori relaționali (returnează `True` sau `False`)\n",
    "  - **`==`** (egalitate)\n",
    "  - **`!=`** (inegalitate)\n",
    "  - **`<`** (mai mic)\n",
    "  - **`<=`** (mai mic sau egal)\n",
    "  - **`>`** (mai mare)\n",
    "  - **`>=`** (mai mare sau egal)\n",
    "\n",
    "Când sunt utilizați mai mulți operatori în aceeași expresie, **precedența operatorilor** determină ordinea de evaluare a operatorilor. Operatorii cu prioritatea mai mare sunt evaluați prima dată. Operatorii cu prioritate egală sunt evaluați de la stânga la dreapta. Precedența operatorilor poate fi modificată prin utilizarea parantezelor `()`. Ordinea completă a precedenței operatorilor poate fi regăsită la adresa: https://docs.python.org/3/reference/expressions.html#operator-precedence .\n",
    "\n",
    "Exemple:\n",
    "\n",
    "> **(OBS)** În Jupyter, dacă ultima instrucțiune din secvența de cod dintr-o celulă returnează o valoare, aceasta va fi afișată automat. În caz contrar, rezultatul poate fi afișat cu ajutorul funcției `print`"
   ]
  },
  {
   "cell_type": "code",
   "execution_count": 1,
   "metadata": {
    "colab": {},
    "colab_type": "code",
    "id": "d72rye0qaZlE"
   },
   "outputs": [],
   "source": [
    "# Atribuire\n",
    "num1 = 10\n",
    "num2 = -3\n",
    "num3 = 7.41\n",
    "num4 = -.6\n",
    "num5 = 7\n",
    "num6 = 3\n",
    "num7 = 11.11"
   ]
  },
  {
   "cell_type": "code",
   "execution_count": 2,
   "metadata": {
    "colab": {
     "base_uri": "https://localhost:8080/",
     "height": 34
    },
    "colab_type": "code",
    "id": "Dw2j1JcTaZlH",
    "outputId": "8888466e-e7f9-4354-a0d9-e68861ed228a"
   },
   "outputs": [
    {
     "data": {
      "text/plain": [
       "7"
      ]
     },
     "execution_count": 2,
     "metadata": {},
     "output_type": "execute_result"
    }
   ],
   "source": [
    "# Adunare\n",
    "num1 + num2"
   ]
  },
  {
   "cell_type": "code",
   "execution_count": 3,
   "metadata": {
    "colab": {
     "base_uri": "https://localhost:8080/",
     "height": 34
    },
    "colab_type": "code",
    "id": "CKLffZyWaZlL",
    "outputId": "6aa616b4-48a8-42f9-cd28-e3ccd8527361"
   },
   "outputs": [
    {
     "data": {
      "text/plain": [
       "-10.41"
      ]
     },
     "execution_count": 3,
     "metadata": {},
     "output_type": "execute_result"
    }
   ],
   "source": [
    "# Scădere\n",
    "num2 - num3"
   ]
  },
  {
   "cell_type": "code",
   "execution_count": 4,
   "metadata": {
    "colab": {
     "base_uri": "https://localhost:8080/",
     "height": 34
    },
    "colab_type": "code",
    "id": "TFuVGCvJaZlN",
    "outputId": "9bc5898d-5e13-4faf-db4b-0b4595437a99"
   },
   "outputs": [
    {
     "data": {
      "text/plain": [
       "-4.446"
      ]
     },
     "execution_count": 4,
     "metadata": {},
     "output_type": "execute_result"
    }
   ],
   "source": [
    "# Înmulțire\n",
    "num3 * num4"
   ]
  },
  {
   "cell_type": "code",
   "execution_count": 5,
   "metadata": {
    "colab": {
     "base_uri": "https://localhost:8080/",
     "height": 34
    },
    "colab_type": "code",
    "id": "XV5vOMGfaZlQ",
    "outputId": "64962dd6-ada1-4b44-897f-3189ffab0779"
   },
   "outputs": [
    {
     "data": {
      "text/plain": [
       "-0.08571428571428572"
      ]
     },
     "execution_count": 5,
     "metadata": {},
     "output_type": "execute_result"
    }
   ],
   "source": [
    "# Împărțire\n",
    "num4 / num5"
   ]
  },
  {
   "cell_type": "code",
   "execution_count": 6,
   "metadata": {
    "colab": {
     "base_uri": "https://localhost:8080/",
     "height": 34
    },
    "colab_type": "code",
    "id": "t1o4YdGSaZlS",
    "outputId": "c5689eb8-df35-47e4-a05f-474162e06862"
   },
   "outputs": [
    {
     "data": {
      "text/plain": [
       "343"
      ]
     },
     "execution_count": 6,
     "metadata": {},
     "output_type": "execute_result"
    }
   ],
   "source": [
    "# Exponent\n",
    "num5 ** num6"
   ]
  },
  {
   "cell_type": "code",
   "execution_count": 7,
   "metadata": {
    "colab": {
     "base_uri": "https://localhost:8080/",
     "height": 34
    },
    "colab_type": "code",
    "id": "ZyHrelP2aZlW",
    "outputId": "6a5eb666-fd97-4ed1-d806-ef3927132f6a"
   },
   "outputs": [
    {
     "name": "stdout",
     "output_type": "stream",
     "text": [
      "15.11\n"
     ]
    }
   ],
   "source": [
    "# Incrementare variabilă existentă\n",
    "num7 += 4\n",
    "print (num7)"
   ]
  },
  {
   "cell_type": "code",
   "execution_count": 8,
   "metadata": {
    "colab": {
     "base_uri": "https://localhost:8080/",
     "height": 34
    },
    "colab_type": "code",
    "id": "KK0QeLueaZlY",
    "outputId": "0c7bf89f-cdff-4738-b536-7e80cdfb1d8e"
   },
   "outputs": [
    {
     "name": "stdout",
     "output_type": "stream",
     "text": [
      "1\n"
     ]
    }
   ],
   "source": [
    "# Decrementare variabilă existentă\n",
    "num6 -= 2\n",
    "print (num6)"
   ]
  },
  {
   "cell_type": "code",
   "execution_count": 9,
   "metadata": {
    "colab": {
     "base_uri": "https://localhost:8080/",
     "height": 34
    },
    "colab_type": "code",
    "id": "Wt4vnW8haZlb",
    "outputId": "7c7a5af6-2501-4b86-89f8-cfeb812a3fbc"
   },
   "outputs": [
    {
     "name": "stdout",
     "output_type": "stream",
     "text": [
      "37.05\n"
     ]
    }
   ],
   "source": [
    "# Înmulțire și reatribuire\n",
    "num3 *= 5\n",
    "print (num3)"
   ]
  },
  {
   "cell_type": "code",
   "execution_count": 10,
   "metadata": {
    "colab": {
     "base_uri": "https://localhost:8080/",
     "height": 34
    },
    "colab_type": "code",
    "id": "3RkjXYNkaZle",
    "outputId": "6cbc0c6c-6d64-4a7b-b12b-6aab7876d1b4"
   },
   "outputs": [
    {
     "name": "stdout",
     "output_type": "stream",
     "text": [
      "-101.15\n"
     ]
    }
   ],
   "source": [
    "# Atribuirea rezultatului unei expresii unei variabile\n",
    "num8 = num1 + num2 * num3\n",
    "print (num8)"
   ]
  },
  {
   "cell_type": "code",
   "execution_count": 11,
   "metadata": {
    "colab": {
     "base_uri": "https://localhost:8080/",
     "height": 34
    },
    "colab_type": "code",
    "id": "CypUp7NQaZlh",
    "outputId": "ad64c519-f7ae-4c99-e768-c0c63f92e351"
   },
   "outputs": [
    {
     "data": {
      "text/plain": [
       "True"
      ]
     },
     "execution_count": 11,
     "metadata": {},
     "output_type": "execute_result"
    }
   ],
   "source": [
    "# Verificare egalitate\n",
    "num1 + num2 == num5"
   ]
  },
  {
   "cell_type": "code",
   "execution_count": 12,
   "metadata": {
    "colab": {
     "base_uri": "https://localhost:8080/",
     "height": 34
    },
    "colab_type": "code",
    "id": "TuReTZBkaZlj",
    "outputId": "ee09f3f5-d68e-4c89-cd48-0f559464cd5e"
   },
   "outputs": [
    {
     "data": {
      "text/plain": [
       "True"
      ]
     },
     "execution_count": 12,
     "metadata": {},
     "output_type": "execute_result"
    }
   ],
   "source": [
    "# Verificare inegalitate\n",
    "num3 != num4"
   ]
  },
  {
   "cell_type": "code",
   "execution_count": 13,
   "metadata": {
    "colab": {
     "base_uri": "https://localhost:8080/",
     "height": 34
    },
    "colab_type": "code",
    "id": "bRvIp35haZlm",
    "outputId": "6a75fa6b-3925-41b2-9d2f-e637afbd8110"
   },
   "outputs": [
    {
     "data": {
      "text/plain": [
       "False"
      ]
     },
     "execution_count": 13,
     "metadata": {},
     "output_type": "execute_result"
    }
   ],
   "source": [
    "# Mai mic\n",
    "num5 < num6"
   ]
  },
  {
   "cell_type": "code",
   "execution_count": 14,
   "metadata": {
    "colab": {
     "base_uri": "https://localhost:8080/",
     "height": 34
    },
    "colab_type": "code",
    "id": "-EYZLvcmaZlo",
    "outputId": "afa67c72-e4f9-4126-98ac-fb54984628f9"
   },
   "outputs": [
    {
     "data": {
      "text/plain": [
       "True"
      ]
     },
     "execution_count": 14,
     "metadata": {},
     "output_type": "execute_result"
    }
   ],
   "source": [
    "# Expresie relațională compusă\n",
    "5 > 3 > 1"
   ]
  },
  {
   "cell_type": "code",
   "execution_count": 15,
   "metadata": {
    "colab": {
     "base_uri": "https://localhost:8080/",
     "height": 34
    },
    "colab_type": "code",
    "id": "aRU0WdRzaZlq",
    "outputId": "85c45599-d766-426e-a9c1-157aadb77bb4"
   },
   "outputs": [
    {
     "data": {
      "text/plain": [
       "True"
      ]
     },
     "execution_count": 15,
     "metadata": {},
     "output_type": "execute_result"
    }
   ],
   "source": [
    "# Expresie relațională compusă\n",
    "5 > 3 < 4 == 3 + 1"
   ]
  },
  {
   "cell_type": "code",
   "execution_count": 16,
   "metadata": {
    "colab": {
     "base_uri": "https://localhost:8080/",
     "height": 51
    },
    "colab_type": "code",
    "id": "HUolCGUcaZls",
    "outputId": "e90e8b98-52b9-4772-c497-f8c61009ea6a"
   },
   "outputs": [
    {
     "name": "stdout",
     "output_type": "stream",
     "text": [
      "an example\n",
      "apples and oranges \n"
     ]
    }
   ],
   "source": [
    "# Atribuire string\n",
    "string1 = 'an example'\n",
    "string2 = \"apples and oranges \"\n",
    "print (string1)\n",
    "print (string2)"
   ]
  },
  {
   "cell_type": "code",
   "execution_count": 17,
   "metadata": {
    "colab": {
     "base_uri": "https://localhost:8080/",
     "height": 34
    },
    "colab_type": "code",
    "id": "qNtsdnVfaZlv",
    "outputId": "c1ca3e2d-9dde-4fa3-ddf5-7ac695110f7a"
   },
   "outputs": [
    {
     "data": {
      "text/plain": [
       "'an example of using the + operator'"
      ]
     },
     "execution_count": 17,
     "metadata": {},
     "output_type": "execute_result"
    }
   ],
   "source": [
    "# Adunare string-uri\n",
    "string1 + ' of using the + operator'"
   ]
  },
  {
   "cell_type": "code",
   "execution_count": 18,
   "metadata": {
    "colab": {
     "base_uri": "https://localhost:8080/",
     "height": 34
    },
    "colab_type": "code",
    "id": "ucoLOo0TaZl0",
    "outputId": "d0693c35-b628-4885-b5d1-cd629c270ac9"
   },
   "outputs": [
    {
     "data": {
      "text/plain": [
       "'an example'"
      ]
     },
     "execution_count": 18,
     "metadata": {},
     "output_type": "execute_result"
    }
   ],
   "source": [
    "# String-ul inițial nu a fost modificat\n",
    "string1"
   ]
  },
  {
   "cell_type": "code",
   "execution_count": 19,
   "metadata": {
    "colab": {
     "base_uri": "https://localhost:8080/",
     "height": 34
    },
    "colab_type": "code",
    "id": "7_oJW9LXaZl4",
    "outputId": "92bb6694-06d7-447c-e7f1-99c0aaa57464"
   },
   "outputs": [
    {
     "data": {
      "text/plain": [
       "'apples and oranges apples and oranges apples and oranges apples and oranges '"
      ]
     },
     "execution_count": 19,
     "metadata": {},
     "output_type": "execute_result"
    }
   ],
   "source": [
    "# Înmulțire string cu un numeral\n",
    "string2 * 4"
   ]
  },
  {
   "cell_type": "code",
   "execution_count": 20,
   "metadata": {
    "colab": {
     "base_uri": "https://localhost:8080/",
     "height": 34
    },
    "colab_type": "code",
    "id": "MMbjNm2XaZl8",
    "outputId": "ec834cd4-668a-4304-ac53-67085968dcc8"
   },
   "outputs": [
    {
     "data": {
      "text/plain": [
       "'apples and oranges '"
      ]
     },
     "execution_count": 20,
     "metadata": {},
     "output_type": "execute_result"
    }
   ],
   "source": [
    "# Nici acest string nu a fost modificat\n",
    "string2"
   ]
  },
  {
   "cell_type": "code",
   "execution_count": 21,
   "metadata": {
    "colab": {
     "base_uri": "https://localhost:8080/",
     "height": 34
    },
    "colab_type": "code",
    "id": "AmLWJNLkaZmA",
    "outputId": "53c4f418-e6fa-4df7-b87b-87810be4ae2f"
   },
   "outputs": [
    {
     "data": {
      "text/plain": [
       "False"
      ]
     },
     "execution_count": 21,
     "metadata": {},
     "output_type": "execute_result"
    }
   ],
   "source": [
    "# Egalitate string-urile?\n",
    "string1 == string2"
   ]
  },
  {
   "cell_type": "code",
   "execution_count": 22,
   "metadata": {
    "colab": {
     "base_uri": "https://localhost:8080/",
     "height": 34
    },
    "colab_type": "code",
    "id": "u4rh9tNWaZmC",
    "outputId": "d4b08468-2d69-439d-898c-5199d0ebf14b"
   },
   "outputs": [
    {
     "data": {
      "text/plain": [
       "True"
      ]
     },
     "execution_count": 22,
     "metadata": {},
     "output_type": "execute_result"
    }
   ],
   "source": [
    "# Sunt egale string-urile?\n",
    "string1 == 'an example'"
   ]
  },
  {
   "cell_type": "code",
   "execution_count": 23,
   "metadata": {
    "colab": {
     "base_uri": "https://localhost:8080/",
     "height": 34
    },
    "colab_type": "code",
    "id": "QBmT9xb0aZmF",
    "outputId": "2f2210fb-0b4d-4d7f-9bc6-ae777ee83814"
   },
   "outputs": [
    {
     "name": "stdout",
     "output_type": "stream",
     "text": [
      "an example that re-assigned the original string\n"
     ]
    }
   ],
   "source": [
    "# Adunare și reatribuire\n",
    "string1 += ' that re-assigned the original string'\n",
    "print (string1)"
   ]
  },
  {
   "cell_type": "code",
   "execution_count": 24,
   "metadata": {
    "colab": {
     "base_uri": "https://localhost:8080/",
     "height": 34
    },
    "colab_type": "code",
    "id": "FrChVzxBaZmI",
    "outputId": "841a749f-56e1-4240-cb79-f2654fcfd2e7"
   },
   "outputs": [
    {
     "name": "stdout",
     "output_type": "stream",
     "text": [
      "apples and oranges apples and oranges apples and oranges \n"
     ]
    }
   ],
   "source": [
    "# Înmulțire și reatribuire\n",
    "string2 *= 3\n",
    "print (string2)"
   ]
  },
  {
   "cell_type": "markdown",
   "metadata": {
    "colab_type": "text",
    "id": "YQU4Y4ekaZmK"
   },
   "source": [
    "> **(OBS)** Scăderea, împărțirea și decrementarea nu se aplică stringurilor"
   ]
  },
  {
   "cell_type": "markdown",
   "metadata": {
    "colab_type": "text",
    "id": "Yn5rbs0iaZmK"
   },
   "source": [
    "> **(OBS)** Nu există operator ternar, dar poate fi înlocuit cu o instrucțiune `if` într-o singură linie: `a if (a>=b) else b`"
   ]
  },
  {
   "cell_type": "markdown",
   "metadata": {
    "colab_type": "text",
    "id": "cf_ctdCWaZml"
   },
   "source": [
    "## 2.3. Containere de bază\n",
    "\n",
    "**Containerele** sunt obiecte ce pot fi utilizate pentru a grupa mai multe obiecte. Containerele de bază în Python includ:\n",
    "\n",
    "- **`str`** (string/șir de caractere: immutable; indexat prin întregi; elementele sunt stocate în ordinea în care au fost adăugate în container)\n",
    "- **`list`** (listă: mutable; indexat prin întregi; elementele sunt stocate în ordinea în care au fost adăugate în container)\n",
    "  - ex. `[3, 5, 6, 3, 'dog', 'cat', False]`\n",
    "- **`tuple`** (tuplu: immutable; indexat prin întregi; elementele sunt stocate în ordinea în care au fost adăugate în container)\n",
    "  - ex. `(3, 5, 6, 3, 'dog', 'cat', False)`\n",
    "- **`set`** (set: mutable; nu este indexat; elementele **NU** sunt stocate în ordinea în care au fost adăugate; poate conține doar obiecte immutable; nu poate conține obiecte duplicat)\n",
    "  - ex. `{3, 5, 6, 3, 'dog', 'cat', False}`\n",
    "- **`dict`** (dictionary: mutable; perechi cheie-valoare indexate de obiecte immutable; elementele NU sunt stocate în ordinea în care au fost adăugate; cheile trebuie să fie unice)\n",
    "  - `{'name': 'Jane', 'age': 23, 'fav_foods': ['pizza', 'fruit', 'fish']}`\n",
    "\n",
    "> **(OBS)** Obiectele **mutable** pot fi modificate după ce au fost create, iar cele  **immutable** nu pot fi modificate.\n",
    "\n",
    "Definirea elementelor în liste, tupluri sau seturi se face cu ajutorul simbolului virgulă (`,`).\n",
    "\n",
    "Definirea dicționarelor folosește două puncte (`:`) pentru a separa cheia dicționarului de valoare, iar virgula (`,`) este folosită pentru a separa perechile din dicționar.\n",
    "\n",
    "Stringurile, listele și tuplurile sunt de tip **secvență** și pot utiliza operatorii: `+`, `*`, `+=`, și `*=` ."
   ]
  },
  {
   "cell_type": "code",
   "execution_count": 25,
   "metadata": {
    "colab": {},
    "colab_type": "code",
    "id": "4pNSZRK0aZmn"
   },
   "outputs": [],
   "source": [
    "# Atribuirea containerelor\n",
    "list1 = [3, 5, 6, 3, 'dog', 'cat', False]\n",
    "tuple1 = (3, 5, 6, 3, 'dog', 'cat', False)\n",
    "set1 = {3, 5, 6, 3, 'dog', 'cat', False}\n",
    "dict1 = {'name': 'Jane', 'age': 23, 'fav_foods': ['pizza', 'fruit', 'fish']}"
   ]
  },
  {
   "cell_type": "code",
   "execution_count": 26,
   "metadata": {
    "colab": {
     "base_uri": "https://localhost:8080/",
     "height": 34
    },
    "colab_type": "code",
    "id": "N98G-QfraZmp",
    "outputId": "f0b8d1fa-1292-4181-be30-40b0e0d85458"
   },
   "outputs": [
    {
     "name": "stdout",
     "output_type": "stream",
     "text": [
      "[3, 5, 6, 3, 'dog', 'cat', False]\n"
     ]
    }
   ],
   "source": [
    "# Elementele listei sunt stocate în ordinea în care au fost adăugate în container\n",
    "print (list1)"
   ]
  },
  {
   "cell_type": "code",
   "execution_count": 27,
   "metadata": {
    "colab": {
     "base_uri": "https://localhost:8080/",
     "height": 34
    },
    "colab_type": "code",
    "id": "cp9frzwaaZmr",
    "outputId": "c40c0470-2b91-4b1a-f6b1-e062902d21de"
   },
   "outputs": [
    {
     "name": "stdout",
     "output_type": "stream",
     "text": [
      "(3, 5, 6, 3, 'dog', 'cat', False)\n"
     ]
    }
   ],
   "source": [
    "# Elementele tuplului sunt stocate în ordinea în care au fost adăugate în container\n",
    "print (tuple1)"
   ]
  },
  {
   "cell_type": "code",
   "execution_count": 28,
   "metadata": {
    "colab": {
     "base_uri": "https://localhost:8080/",
     "height": 34
    },
    "colab_type": "code",
    "id": "5i6pP8HJaZmt",
    "outputId": "3facf878-3c7b-4cd9-c4f9-d89538b6b04e"
   },
   "outputs": [
    {
     "name": "stdout",
     "output_type": "stream",
     "text": [
      "set([False, 3, 5, 6, 'dog', 'cat'])\n"
     ]
    }
   ],
   "source": [
    "# Elementele setului NU sunt stocate în ordinea în care au fost adăugate în container\n",
    "# Totodată, valoarea 3 apare o singură dată în set\n",
    "print (set1)"
   ]
  },
  {
   "cell_type": "code",
   "execution_count": 29,
   "metadata": {
    "colab": {
     "base_uri": "https://localhost:8080/",
     "height": 34
    },
    "colab_type": "code",
    "id": "-gpQQG8laZmv",
    "outputId": "1339b272-9926-444e-f4de-a8ef8641f940"
   },
   "outputs": [
    {
     "name": "stdout",
     "output_type": "stream",
     "text": [
      "{'age': 23, 'fav_foods': ['pizza', 'fruit', 'fish'], 'name': 'Jane'}\n"
     ]
    }
   ],
   "source": [
    "# Elementele dicționarului NU sunt neapărat stocate în ordinea în care au fost adăugate în container\n",
    "print (dict1)"
   ]
  },
  {
   "cell_type": "code",
   "execution_count": 30,
   "metadata": {
    "colab": {
     "base_uri": "https://localhost:8080/",
     "height": 34
    },
    "colab_type": "code",
    "id": "cNmQPdn_aZm2",
    "outputId": "c354f313-9a1f-4e86-8ab0-545c003ed17a"
   },
   "outputs": [
    {
     "name": "stdout",
     "output_type": "stream",
     "text": [
      "[3, 5, 6, 3, 'dog', 'cat', False, 5, 'grapes']\n"
     ]
    }
   ],
   "source": [
    "# Adăugare și reatribuire\n",
    "list1 += [5, 'grapes']\n",
    "print (list1)"
   ]
  },
  {
   "cell_type": "code",
   "execution_count": 31,
   "metadata": {
    "colab": {
     "base_uri": "https://localhost:8080/",
     "height": 34
    },
    "colab_type": "code",
    "id": "3Zadb6qLaZm4",
    "outputId": "670905d5-34e8-4f9b-8980-5a2d72da454a"
   },
   "outputs": [
    {
     "name": "stdout",
     "output_type": "stream",
     "text": [
      "(3, 5, 6, 3, 'dog', 'cat', False, 5, 'grapes')\n"
     ]
    }
   ],
   "source": [
    "# Adăugare și reatribuire\n",
    "tuple1 += (5, 'grapes')\n",
    "print (tuple1)"
   ]
  },
  {
   "cell_type": "code",
   "execution_count": 32,
   "metadata": {
    "colab": {
     "base_uri": "https://localhost:8080/",
     "height": 34
    },
    "colab_type": "code",
    "id": "xyvaWTJWaZm7",
    "outputId": "cd31761e-c26e-4f1a-86b0-15e30794195d"
   },
   "outputs": [
    {
     "data": {
      "text/plain": [
       "[1, 2, 3, 4, 1, 2, 3, 4]"
      ]
     },
     "execution_count": 32,
     "metadata": {},
     "output_type": "execute_result"
    }
   ],
   "source": [
    "# Înmulțire listă\n",
    "[1, 2, 3, 4] * 2"
   ]
  },
  {
   "cell_type": "code",
   "execution_count": 33,
   "metadata": {
    "colab": {
     "base_uri": "https://localhost:8080/",
     "height": 34
    },
    "colab_type": "code",
    "id": "a6YsMFQiaZm_",
    "outputId": "5ec41ce8-7c37-4ebd-d344-faee5686ded7"
   },
   "outputs": [
    {
     "data": {
      "text/plain": [
       "(1, 2, 3, 4, 1, 2, 3, 4, 1, 2, 3, 4)"
      ]
     },
     "execution_count": 33,
     "metadata": {},
     "output_type": "execute_result"
    }
   ],
   "source": [
    "# Înmulțire tuplu\n",
    "(1, 2, 3, 4) * 3"
   ]
  },
  {
   "cell_type": "markdown",
   "metadata": {
    "colab_type": "text",
    "id": "X1jyreDiaZnA"
   },
   "source": [
    "**Accesarea datelor din containere**\n",
    "\n",
    "Pentru stringuri, liste și dicționare, se poate utiliza notația **subscript** (cu paranteze drepte) pentru a accesa datele de la un anumit index:\n",
    "\n",
    "- stringurile, listele, și tuplurile sunt indexate de întregi, **începând cu 0** pentru primul element\n",
    "  - aceste secvențe permit și accesarea unui domeniu de indecși, denumit și **slicing**\n",
    "  - se poate utiliza **indexarea negativă** pentru a începe de la finalul secvenței\n",
    "- dicționarele sunt indexate de cheile lor\n",
    "\n",
    "> **(OBS)** Seturile nu sunt indexate, astfel că nu putem accesa elementele prin notația subscript (paranteze drepte)"
   ]
  },
  {
   "cell_type": "code",
   "execution_count": 34,
   "metadata": {
    "colab": {
     "base_uri": "https://localhost:8080/",
     "height": 34
    },
    "colab_type": "code",
    "id": "Y2_HWS4gaZnC",
    "outputId": "f42fe9e6-b1a3-458d-a0d2-d24856a93286"
   },
   "outputs": [
    {
     "name": "stdout",
     "output_type": "stream",
     "text": [
      "3\n"
     ]
    }
   ],
   "source": [
    "# Primul element dintr-o secvență\n",
    "print (list1[0])"
   ]
  },
  {
   "cell_type": "code",
   "execution_count": 35,
   "metadata": {
    "colab": {
     "base_uri": "https://localhost:8080/",
     "height": 34
    },
    "colab_type": "code",
    "id": "ITeyrIVUaZnD",
    "outputId": "eac5df9a-2fdc-4124-8759-973e6ec1c06a"
   },
   "outputs": [
    {
     "name": "stdout",
     "output_type": "stream",
     "text": [
      "grapes\n"
     ]
    }
   ],
   "source": [
    "# Ultimul element dintr-o secvență\n",
    "print (tuple1[-1])"
   ]
  },
  {
   "cell_type": "code",
   "execution_count": 36,
   "metadata": {
    "colab": {
     "base_uri": "https://localhost:8080/",
     "height": 34
    },
    "colab_type": "code",
    "id": "ED0cvvLPaZnF",
    "outputId": "28e0138e-7154-48b5-ce3f-a71c9a49c8bc"
   },
   "outputs": [
    {
     "name": "stdout",
     "output_type": "stream",
     "text": [
      "examp\n"
     ]
    }
   ],
   "source": [
    "# Domeniu de elemente dintr-o secvență\n",
    "print (string1[3:8])"
   ]
  },
  {
   "cell_type": "code",
   "execution_count": 37,
   "metadata": {
    "colab": {
     "base_uri": "https://localhost:8080/",
     "height": 34
    },
    "colab_type": "code",
    "id": "2zxvRAJ7aZnH",
    "outputId": "7b03f1e8-e67e-474f-a25a-162860ffedb3"
   },
   "outputs": [
    {
     "name": "stdout",
     "output_type": "stream",
     "text": [
      "(3, 5, 6, 3, 'dog', 'cat')\n"
     ]
    }
   ],
   "source": [
    "# Domeniu de elemente dintr-o secvență\n",
    "print (tuple1[:-3])"
   ]
  },
  {
   "cell_type": "code",
   "execution_count": 38,
   "metadata": {
    "colab": {
     "base_uri": "https://localhost:8080/",
     "height": 34
    },
    "colab_type": "code",
    "id": "XN99kF4UaZnI",
    "outputId": "6b50754c-2904-4bdd-9b50-684436e3f993"
   },
   "outputs": [
    {
     "name": "stdout",
     "output_type": "stream",
     "text": [
      "['dog', 'cat', False, 5, 'grapes']\n"
     ]
    }
   ],
   "source": [
    "# Domeniu de elemente dintr-o secvență\n",
    "print (list1[4:])"
   ]
  },
  {
   "cell_type": "code",
   "execution_count": 39,
   "metadata": {
    "colab": {
     "base_uri": "https://localhost:8080/",
     "height": 34
    },
    "colab_type": "code",
    "id": "xJ2u1xZPaZnJ",
    "outputId": "dad0076b-0991-48f1-ffb9-93be70c6cc4f"
   },
   "outputs": [
    {
     "name": "stdout",
     "output_type": "stream",
     "text": [
      "Jane\n"
     ]
    }
   ],
   "source": [
    "# Un element dintr-un dicționar indexat de cheie\n",
    "print (dict1['name'])"
   ]
  },
  {
   "cell_type": "code",
   "execution_count": 40,
   "metadata": {
    "colab": {
     "base_uri": "https://localhost:8080/",
     "height": 34
    },
    "colab_type": "code",
    "id": "L2uQFEb8aZnL",
    "outputId": "a72de99a-6305-4516-c7a0-a5d498f5a274"
   },
   "outputs": [
    {
     "name": "stdout",
     "output_type": "stream",
     "text": [
      "fish\n"
     ]
    }
   ],
   "source": [
    "# Un element dintr-o secvență conținută ca valoare într-un dicționar\n",
    "print (dict1['fav_foods'][2])"
   ]
  },
  {
   "cell_type": "markdown",
   "metadata": {
    "colab_type": "text",
    "id": "f5Se5Q3BaZmL"
   },
   "source": [
    "## 2.3. Definirea funcțiilor\n",
    "\n",
    "**Funcțiile** în Python, asemenea altor limbaje de programare trebuie să includă un set de *argumente de intrare*, o *secvență de instrucțiuni* și un set de *valori returnate*. Oricare dintre aceste elemente poate să lipsească. Definirea unei funcții se face cu ajutorul cuvântului cheie `def` urmat de numele funcției, lista parametrilor de intrare încadrați de paranteze rotunde și simbolul `:` ce marchează începutul unei secvențe de instrucțiuni compuse:"
   ]
  },
  {
   "cell_type": "code",
   "execution_count": 41,
   "metadata": {
    "colab": {},
    "colab_type": "code",
    "id": "d9J9Vv44aZmM"
   },
   "outputs": [],
   "source": [
    "# Definirea unei funcții\n",
    "def sumation(a,b):\n",
    "    c = a+b\n",
    "    return c"
   ]
  },
  {
   "cell_type": "code",
   "execution_count": 42,
   "metadata": {
    "colab": {},
    "colab_type": "code",
    "id": "lW8yradiaZmO"
   },
   "outputs": [],
   "source": [
    "# Funcție fără parametri de intrare și fără valoare returnată\n",
    "def print_func():\n",
    "    print (\"My function\")"
   ]
  },
  {
   "cell_type": "markdown",
   "metadata": {
    "colab_type": "text",
    "id": "V-eRqV7jaZmP"
   },
   "source": [
    "Dacă o funcție returnează mai multe valori, acestea vor reprezenta un tuplu."
   ]
  },
  {
   "cell_type": "code",
   "execution_count": 43,
   "metadata": {
    "colab": {},
    "colab_type": "code",
    "id": "Ge4_D_HIaZmQ"
   },
   "outputs": [],
   "source": [
    "# Funcție ce returnează mai multe valori\n",
    "def sum_and_pow(a,b):\n",
    "    return (a+b, a**b)"
   ]
  },
  {
   "cell_type": "markdown",
   "metadata": {
    "colab_type": "text",
    "id": "mtVLF6_UaZmS"
   },
   "source": [
    "**Apelul** unei funcții se face prin numele acesteia urmat de variabilele de intrare încadrate de paranteze rotunde:"
   ]
  },
  {
   "cell_type": "code",
   "execution_count": 44,
   "metadata": {
    "colab": {
     "base_uri": "https://localhost:8080/",
     "height": 85
    },
    "colab_type": "code",
    "id": "-4awKd6kaZmS",
    "outputId": "c7d51de5-a437-44bd-be82-981a1ac7774c"
   },
   "outputs": [
    {
     "name": "stdout",
     "output_type": "stream",
     "text": [
      "7\n",
      "My function\n",
      "None\n",
      "(7, 81)\n"
     ]
    }
   ],
   "source": [
    "# Apelul funcției\n",
    "print (sumation(3,4))\n",
    "print (print_func())\n",
    "print (sum_and_pow(3,4))"
   ]
  },
  {
   "cell_type": "markdown",
   "metadata": {
    "colab_type": "text",
    "id": "9rKUVvi4aZmY"
   },
   "source": [
    "În cazul în care o funcție returnează mai multe valori, acestea pot fi extrase în variabile în mod selectiv:"
   ]
  },
  {
   "cell_type": "code",
   "execution_count": 45,
   "metadata": {
    "colab": {
     "base_uri": "https://localhost:8080/",
     "height": 85
    },
    "colab_type": "code",
    "id": "nA7LRna4aZmY",
    "outputId": "f97f4dab-c454-4d69-a441-0eeb0e0330a3"
   },
   "outputs": [
    {
     "name": "stdout",
     "output_type": "stream",
     "text": [
      "(5, 8)\n",
      "5\n",
      "9\n",
      "(5, 9)\n"
     ]
    }
   ],
   "source": [
    "# extragerea valorilor returnate în variabile individuale\n",
    "a,b = sum_and_pow(2,3)\n",
    "print (a,b)\n",
    "\n",
    "\n",
    "# extragerea primei valori returnate\n",
    "c,_ = sum_and_pow(3,2)\n",
    "print(c)\n",
    "\n",
    "# extragerea celei de-a doua valori returnate\n",
    "_,d = sum_and_pow(3,2)\n",
    "print(d)\n",
    "\n",
    "# extragerea ambelor valori returnate într-un tuplu\n",
    "t = sum_and_pow(3,2)\n",
    "print (t)"
   ]
  },
  {
   "cell_type": "markdown",
   "metadata": {
    "colab_type": "text",
    "id": "UmSyfSXKaZma"
   },
   "source": [
    "### 2.3.1. Argumente poziționale și argumente cu cheie (`keyword`)\n",
    "\n",
    "Argumentele unei funcții pot fi identificate prin poziția lor în apelul funcției (**poziționale**) sau prin utilizarea unui cuvânt cheie înainte de acestea (**keyword**).\n",
    "\n",
    "În funcție de antentul și tipul argumentelor unei funcții, aceasta poate fi apelată în diverse moduri:\n",
    "\n",
    "- `func()` - apel fără argumente\n",
    "- `func(arg)` - apel cu un argument pozițional\n",
    "- `func(arg1, arg2)` - apel cu două argumente poziționale\n",
    "- `func(arg1, arg2, ..., argn)` - apel cu multiple argumente poziționale\n",
    "- `func(kwarg=value)` - apel `func` cu un argument de tip keyword și valoare implicită\n",
    "- `func(kwarg1=value1, kwarg2=value2)` - apel cu două argumente de tip keyword și valori implicite\n",
    "- `func(kwarg1=value1, kwarg2=value2, ..., kwargn=valuen)` - apel cu multiple argumente de tip keyword\n",
    "- `func(arg1, arg2, kwarg1=value1, kwarg2=value2)`- apel cu argumente poziționale și de tip keyword\n",
    "\n",
    "\n",
    "> **(OBS)** Când se utilizeaază argumente **poziționale**, acestea trebuie transmise în ordinea în care au fost definite în funcție (**semnătura funcției**)\n",
    "\n",
    "> **(OBS)** Când se utilizează argumente de tip **keyword**, acestea pot fi transmise în orice ordine, atâta timp cât se specifică numele argumentului.\n",
    "\n",
    "> **(OBS)** Dacă se utilizează și argumente **poziționale** și argumente de tip **keyword**, argumentele poziționale trebuie să fie primele.\n",
    "\n",
    "> **(OBS)** Argumentele de tip **keyword** pot să aibă valori implicite specificate în semnătura funcției. "
   ]
  },
  {
   "cell_type": "code",
   "execution_count": 46,
   "metadata": {
    "colab": {},
    "colab_type": "code",
    "id": "HVoP1Y4MaZma"
   },
   "outputs": [],
   "source": [
    "# Definire funcție cu argumente pozitionale și keyword \n",
    "# fără valoare implicită\n",
    "def func1(a, b, inc=''):\n",
    "    return a+b+inc"
   ]
  },
  {
   "cell_type": "code",
   "execution_count": 47,
   "metadata": {
    "colab": {
     "base_uri": "https://localhost:8080/",
     "height": 34
    },
    "colab_type": "code",
    "id": "dDVQNmM0aZmc",
    "outputId": "a2346372-fe67-4117-f854-276ffe77794c"
   },
   "outputs": [
    {
     "data": {
      "text/plain": [
       "8"
      ]
     },
     "execution_count": 47,
     "metadata": {},
     "output_type": "execute_result"
    }
   ],
   "source": [
    "# Apel funcție cu argumente poziționale și de tip keyword\n",
    "func1(2,3,inc=3)"
   ]
  },
  {
   "cell_type": "code",
   "execution_count": 48,
   "metadata": {
    "colab": {},
    "colab_type": "code",
    "id": "L1-_j4KQaZmf"
   },
   "outputs": [],
   "source": [
    "# Definire funcție cu argumente pozitionale și keyword \n",
    "# cu valoare implicită\n",
    "def func2(a, b, inc=5):\n",
    "    return a+b+inc"
   ]
  },
  {
   "cell_type": "code",
   "execution_count": 49,
   "metadata": {
    "colab": {
     "base_uri": "https://localhost:8080/",
     "height": 34
    },
    "colab_type": "code",
    "id": "9_uQGajcaZmg",
    "outputId": "0d4dfd47-3f89-488d-acc9-b901c5adcd00"
   },
   "outputs": [
    {
     "data": {
      "text/plain": [
       "10"
      ]
     },
     "execution_count": 49,
     "metadata": {},
     "output_type": "execute_result"
    }
   ],
   "source": [
    "# Apel funcție cu argumente poziționale și de tip keyword \n",
    "# cu valoare implicită\n",
    "func2(2,3)"
   ]
  },
  {
   "cell_type": "code",
   "execution_count": 50,
   "metadata": {
    "colab": {
     "base_uri": "https://localhost:8080/",
     "height": 34
    },
    "colab_type": "code",
    "id": "nIm0hxsCaZmk",
    "outputId": "2e6aab08-0e56-4ba3-9125-ea62a3abae12"
   },
   "outputs": [
    {
     "data": {
      "text/plain": [
       "11"
      ]
     },
     "execution_count": 50,
     "metadata": {},
     "output_type": "execute_result"
    }
   ],
   "source": [
    "# Apel funcție cu argumente poziționale și de tip keyword \n",
    "# cu valoare implicită\n",
    "func2(2,3, inc=6)"
   ]
  },
  {
   "cell_type": "markdown",
   "metadata": {
    "colab_type": "text",
    "id": "5_fq3uuOaZo7"
   },
   "source": [
    "## 2.5. Clase: crearea obiectelor proprii\n",
    "\n",
    "Prin paradigma obiectuală, Python permite definirea claselor proprii. Antetul acestora este dat de cuvântul cheie `class` urmat de numele clasei, iar între paranteze rotunde sunt enumerate clasele moștenite de clasa curentă. \n",
    "\n",
    "> **(OBS)** Clasa de bază `object` nu trebuie specificată în clar\n"
   ]
  },
  {
   "cell_type": "code",
   "execution_count": 51,
   "metadata": {
    "colab": {},
    "colab_type": "code",
    "id": "7zNCwOLiaZo7"
   },
   "outputs": [],
   "source": [
    "# Definirea unei clase derivată explicit din clasa de bază \n",
    "# Python - `object`\n",
    "class My_Class(object):\n",
    "    my_property = 'This is my class'\n",
    "    \n",
    "# Definirea unei clase derivată implicit din clasa de bază \n",
    "# Python - `object`\n",
    "class My_Class():\n",
    "    my_property = 'This is my class'\n",
    "\n",
    "# Definirea unei noi clase`MyNewClass` derivată din \n",
    "# tipul `MyClass` \n",
    "class My_Dict_Class(My_Class):\n",
    "    my_property = 'This is my Dict Class'"
   ]
  },
  {
   "cell_type": "markdown",
   "metadata": {},
   "source": [
    "Pentru a crea un obiect de tipul clasei definite se utilizează atribuirea simplă:"
   ]
  },
  {
   "cell_type": "code",
   "execution_count": 52,
   "metadata": {
    "colab": {
     "base_uri": "https://localhost:8080/",
     "height": 85
    },
    "colab_type": "code",
    "id": "EhGXKjttaZo-",
    "outputId": "5d9ee9e9-1e50-4bba-82a5-640364b926e7"
   },
   "outputs": [
    {
     "name": "stdout",
     "output_type": "stream",
     "text": [
      "<__main__.My_Class instance at 0x7f35c4643518>\n",
      "<__main__.My_Dict_Class instance at 0x7f35c4643560>\n"
     ]
    }
   ],
   "source": [
    "# Crearea instanțelor de clasă\n",
    "t = My_Class()\n",
    "d = My_Dict_Class()\n",
    "print (t)\n",
    "print (d)"
   ]
  },
  {
   "cell_type": "markdown",
   "metadata": {
    "colab_type": "text",
    "id": "Z5ekfEG6fI99"
   },
   "source": [
    "### 2.5.1. Atributele obiectelor (metode și proprietăți )\n",
    "\n",
    "Fiecare tip de obiecte din Python are **atribute** diferite ce pot fi referite prin nume (similar cu variabilele). Pentru a accesa atributele unu obiect, se utilizează punctul (`.`) după numele obiectului și apoi atributul (ex. `obj.atribut`)\n",
    "\n",
    "Când atributul unui obiect este apelabil, acel atribut este denumit **metodă**. Este similar cu o funcție, însă această funcție este limitată la acel obiect particular. \n",
    "\n",
    "Când atributul unui obiect nu este apelabil, acel atribut este denumit **proprietate**. Este doar o anumită informație a obiectului respectiv și este la rândul său un obiect. \n",
    "\n",
    "Funcția predefinită `dir()` poate fi utilizată pentru a returna o listă a atributelor unui obiect.\n"
   ]
  },
  {
   "cell_type": "code",
   "execution_count": 53,
   "metadata": {},
   "outputs": [
    {
     "name": "stdout",
     "output_type": "stream",
     "text": [
      "This is my class\n"
     ]
    }
   ],
   "source": [
    "# Afisarea atributului obiectelor din clasa My_Class\n",
    "print (t.my_property)"
   ]
  },
  {
   "cell_type": "code",
   "execution_count": 54,
   "metadata": {},
   "outputs": [],
   "source": [
    "# Crearea unei clase cu diferite atribute și metode\n",
    "class My_Class2():\n",
    "    age = 12\n",
    "    height = 175\n",
    "    def get_age(self):\n",
    "        return self.age\n",
    "    def get_height(self):\n",
    "        return self.height    "
   ]
  },
  {
   "cell_type": "code",
   "execution_count": 55,
   "metadata": {},
   "outputs": [
    {
     "name": "stdout",
     "output_type": "stream",
     "text": [
      "12\n",
      "175\n"
     ]
    }
   ],
   "source": [
    "# Apel metode ale obiectelor My_Class2\n",
    "o = My_Class2()\n",
    "print(o.get_age())\n",
    "print (o.get_height())"
   ]
  },
  {
   "cell_type": "code",
   "execution_count": 56,
   "metadata": {},
   "outputs": [
    {
     "data": {
      "text/plain": [
       "['__doc__', '__module__', 'age', 'get_age', 'get_height', 'height']"
      ]
     },
     "execution_count": 56,
     "metadata": {},
     "output_type": "execute_result"
    }
   ],
   "source": [
    "# Afișarea atributelor și metodelor unui obiect:\n",
    "dir(My_Class2)"
   ]
  },
  {
   "cell_type": "markdown",
   "metadata": {},
   "source": [
    "Se poate observa că există două atribute implicite: `__doc__` - reprezintă documentația clasei și `__module__` ce reprezintă modului din care face parte (vom discuta ulterior despre acest concept)."
   ]
  },
  {
   "cell_type": "code",
   "execution_count": 57,
   "metadata": {},
   "outputs": [
    {
     "data": {
      "text/plain": [
       "'My_Class2 does nothing for now'"
      ]
     },
     "execution_count": 57,
     "metadata": {},
     "output_type": "execute_result"
    }
   ],
   "source": [
    "# Utilizarea atributului de documentație pentru un obiect al unei clase\n",
    "class My_Class2():\n",
    "    '''My_Class2 does nothing for now'''\n",
    "    age = 12\n",
    "    height = 175\n",
    "    \n",
    "# Nu este necesară instanțierea unui obiect pentru a apela atributele unei clase:\n",
    "My_Class2().__doc__"
   ]
  },
  {
   "cell_type": "markdown",
   "metadata": {
    "colab_type": "text",
    "id": "OnV-8ZrQaZpC"
   },
   "source": [
    "### 2.5.2. Crearea metodelor de inițializare (constructor)"
   ]
  },
  {
   "cell_type": "markdown",
   "metadata": {
    "colab_type": "text",
    "id": "bpg4yjHmaZpC"
   },
   "source": [
    "O metodă de inițializare este similară cu metoda constructor din Java și este utilizată pentru a inițializa atributele de clasă sau pentru a apela metode sau funcții specifice atunci când un nou obiect este creat.\n",
    "\n",
    "> **(OBS)** În metodele de clasă Python, referința `self` asupra obiectului curent este obligatorie!!\n",
    "\n",
    "Destructorul este definit astfel:\n",
    "- `__del__(self):`"
   ]
  },
  {
   "cell_type": "code",
   "execution_count": 58,
   "metadata": {
    "colab": {},
    "colab_type": "code",
    "id": "lUL5OnLnaZpC"
   },
   "outputs": [],
   "source": [
    "# Exemplu de clasă cu metodă de inițializare (constructor), metode proprii și destructor\n",
    "class Student(object):\n",
    "    def __init__(self, name = \"Maria\", age =\"27\"):\n",
    "        self.name = name\n",
    "        self.age = age\n",
    "\n",
    "    def print_name(self):\n",
    "        print (\"My name is \" + self.name+'!')\n",
    "        \n",
    "    def print_greeting(self, greet):\n",
    "        print (greet+' ' + self.name+'!')\n",
    "    \n",
    "    def print_name_age(self):\n",
    "        print ('My name is %s and I am %d years old.' %(self.name, self.age))\n",
    "        \n",
    "    def __del__ (self):\n",
    "        print ('I destroyed myself. Signed, ' + self.name)\n",
    "        "
   ]
  },
  {
   "cell_type": "code",
   "execution_count": 59,
   "metadata": {
    "colab": {
     "base_uri": "https://localhost:8080/",
     "height": 85
    },
    "colab_type": "code",
    "id": "jBluOXYdaZpD",
    "outputId": "5ecd5a84-dedd-4033-91a3-32eae52aae09"
   },
   "outputs": [
    {
     "name": "stdout",
     "output_type": "stream",
     "text": [
      "My name is Maria!\n",
      "Hello Dan!\n",
      "My name is Vlad and I am 20 years old.\n",
      "I destroyed myself. Signed, Maria\n"
     ]
    }
   ],
   "source": [
    "# objA va folosi parametri impliciti ai constructorului\n",
    "objA = Student()\n",
    "# objB și objC vor folosi valorile proprii pentru atribute\n",
    "objB = Student(name=\"Dan\")\n",
    "objC = Student(name=\"Vlad\", age=20)\n",
    "\n",
    "objA.print_name()\n",
    "objB.print_greeting(\"Hello\")\n",
    "objC.print_name_age()\n",
    "\n",
    "# ștergerea obiectului implică apelarea implicită a destructorului\n",
    "del objA\n"
   ]
  },
  {
   "cell_type": "markdown",
   "metadata": {
    "colab_type": "text",
    "id": "nvROZ1KyaZom"
   },
   "source": [
    "### 2.5.3. Conversia de tip (casting)\n",
    "\n",
    "După cum am menționat anterior, toate datele în Python sunt stocate în obiecte fără a avea la dispoziție tipuri de date primitive. \n",
    "\n",
    "\n"
   ]
  },
  {
   "cell_type": "code",
   "execution_count": 60,
   "metadata": {},
   "outputs": [
    {
     "data": {
      "text/plain": [
       "['__abs__',\n",
       " '__add__',\n",
       " '__and__',\n",
       " '__class__',\n",
       " '__cmp__',\n",
       " '__coerce__',\n",
       " '__delattr__',\n",
       " '__div__',\n",
       " '__divmod__',\n",
       " '__doc__',\n",
       " '__float__',\n",
       " '__floordiv__',\n",
       " '__format__',\n",
       " '__getattribute__',\n",
       " '__getnewargs__',\n",
       " '__hash__',\n",
       " '__hex__',\n",
       " '__index__',\n",
       " '__init__',\n",
       " '__int__',\n",
       " '__invert__',\n",
       " '__long__',\n",
       " '__lshift__',\n",
       " '__mod__',\n",
       " '__mul__',\n",
       " '__neg__',\n",
       " '__new__',\n",
       " '__nonzero__',\n",
       " '__oct__',\n",
       " '__or__',\n",
       " '__pos__',\n",
       " '__pow__',\n",
       " '__radd__',\n",
       " '__rand__',\n",
       " '__rdiv__',\n",
       " '__rdivmod__',\n",
       " '__reduce__',\n",
       " '__reduce_ex__',\n",
       " '__repr__',\n",
       " '__rfloordiv__',\n",
       " '__rlshift__',\n",
       " '__rmod__',\n",
       " '__rmul__',\n",
       " '__ror__',\n",
       " '__rpow__',\n",
       " '__rrshift__',\n",
       " '__rshift__',\n",
       " '__rsub__',\n",
       " '__rtruediv__',\n",
       " '__rxor__',\n",
       " '__setattr__',\n",
       " '__sizeof__',\n",
       " '__str__',\n",
       " '__sub__',\n",
       " '__subclasshook__',\n",
       " '__truediv__',\n",
       " '__trunc__',\n",
       " '__xor__',\n",
       " 'bit_length',\n",
       " 'conjugate',\n",
       " 'denominator',\n",
       " 'imag',\n",
       " 'numerator',\n",
       " 'real']"
      ]
     },
     "execution_count": 60,
     "metadata": {},
     "output_type": "execute_result"
    }
   ],
   "source": [
    "# Afișarea atributelor și metodelor unui obiect de tip int()\n",
    "dir(int)"
   ]
  },
  {
   "cell_type": "markdown",
   "metadata": {},
   "source": [
    "Astfel că toate tipurile și containerele de bază pe care le-am folosit până acum au definite și **metode constructor**:\n",
    "\n",
    "- `int()`\n",
    "- `float()`\n",
    "- `str()`\n",
    "- `list()`\n",
    "- `tuple()`\n",
    "- `set()`\n",
    "- `dict()`\n",
    "\n",
    "Acestea pot să fie utilizate pentru a face inițializarea unui obiect de tipul celui definit pe baza unor variabile sau parametri de intrare. Aceste metode pot fi considerate ca fiind și metode de cast sau conversie explicită de tip. Trebuie să avem grijă însă să nu pierdem informație în cadrul acestor conversii."
   ]
  },
  {
   "cell_type": "code",
   "execution_count": 61,
   "metadata": {},
   "outputs": [
    {
     "name": "stdout",
     "output_type": "stream",
     "text": [
      "12\n",
      "12\n"
     ]
    }
   ],
   "source": [
    "# Inițializare explicită obiect de tip int\n",
    "a = int(12)\n",
    "print (a)\n",
    "# Nu diferă programatic cu nimic față de: \n",
    "b = 12\n",
    "print (b)"
   ]
  },
  {
   "cell_type": "code",
   "execution_count": 62,
   "metadata": {
    "colab": {
     "base_uri": "https://localhost:8080/",
     "height": 34
    },
    "colab_type": "code",
    "id": "fyXKCrrfaZom",
    "outputId": "c00306fd-cd12-4645-8e6d-8e4c4c1b9f23"
   },
   "outputs": [
    {
     "data": {
      "text/plain": [
       "23"
      ]
     },
     "execution_count": 62,
     "metadata": {},
     "output_type": "execute_result"
    }
   ],
   "source": [
    "# Conversie string la int\n",
    "int(\"23\")"
   ]
  },
  {
   "cell_type": "code",
   "execution_count": 63,
   "metadata": {
    "colab": {
     "base_uri": "https://localhost:8080/",
     "height": 34
    },
    "colab_type": "code",
    "id": "gnvUiL18aZoo",
    "outputId": "335e2d4c-077d-4075-d1ed-984f9c4a78ed"
   },
   "outputs": [
    {
     "data": {
      "text/plain": [
       "23"
      ]
     },
     "execution_count": 63,
     "metadata": {},
     "output_type": "execute_result"
    }
   ],
   "source": [
    "# Conversie float la int cu pierdere de informație\n",
    "int(23.4)"
   ]
  },
  {
   "cell_type": "code",
   "execution_count": 64,
   "metadata": {
    "colab": {
     "base_uri": "https://localhost:8080/",
     "height": 34
    },
    "colab_type": "code",
    "id": "ROB3NgkOaZoq",
    "outputId": "e7f15db4-f81b-4abc-fd32-205a93e595b5"
   },
   "outputs": [
    {
     "data": {
      "text/plain": [
       "{1, 2, 3, 4, 5, 6, 7}"
      ]
     },
     "execution_count": 64,
     "metadata": {},
     "output_type": "execute_result"
    }
   ],
   "source": [
    "# Conversie listă la set\n",
    "my_list = [1,2,3,3,4,4,5,6,7,7]\n",
    "set(my_list)"
   ]
  },
  {
   "cell_type": "markdown",
   "metadata": {
    "colab_type": "text",
    "id": "H5G0W2sxaZnM"
   },
   "source": [
    "## 2.6. Funcții și metode predefinite \n",
    "\n",
    "Limbajul Python conține un set predefinit de funcții ce facilitează lucrul cu obiecte sau mediul de programare. O listă scurtă a celor mai importante funcții este redată mai jos:\n",
    "\n",
    "\n",
    "- **`type(obj)`** determină tipul unui obiect\n",
    "- **`len(container)`** determină numărul de elemente dintr-un container\n",
    "- **`callable(obj)`** determină dacă un obiect este apelabil (funcție)\n",
    "- **`sorted(container)`** returnează o listă ordonată a elementelor dintr-un container\n",
    "- **`sum(container)`** returnează suma elementelor dintr-un container dcu valori numerice\n",
    "- **`min(container)`** returnează cel mai mic element dintr-un container\n",
    "- **`max(container)`** returnează cel mai mare element dintr-un container\n",
    "- **`abs(number)`** returnează modulul unui număr\n",
    "- **`repr(obj)`** returnează reprezentarea string a unui obiect\n",
    "\n",
    "> Lista completă a funcțiilor predefinite: https://docs.python.org/3/library/functions.html\n",
    "\n",
    "Aceste funcții pot fi aplicate asupra oricărui obiect de tipul specificat ca parametru de intrare. Funcții specifice claselor individuale vor fi indexate ulterior. "
   ]
  },
  {
   "cell_type": "code",
   "execution_count": 65,
   "metadata": {
    "colab": {
     "base_uri": "https://localhost:8080/",
     "height": 34
    },
    "colab_type": "code",
    "id": "VNDjI0piaZnN",
    "outputId": "f1b41227-a310-4e97-f3b3-1a54868e0b01"
   },
   "outputs": [
    {
     "data": {
      "text/plain": [
       "str"
      ]
     },
     "execution_count": 65,
     "metadata": {},
     "output_type": "execute_result"
    }
   ],
   "source": [
    "# Tipul obiectului\n",
    "type(string1)"
   ]
  },
  {
   "cell_type": "code",
   "execution_count": 66,
   "metadata": {
    "colab": {
     "base_uri": "https://localhost:8080/",
     "height": 34
    },
    "colab_type": "code",
    "id": "S5zG35llaZnQ",
    "outputId": "fb18dade-9f25-4359-9632-46d59bbf45e2"
   },
   "outputs": [
    {
     "data": {
      "text/plain": [
       "3"
      ]
     },
     "execution_count": 66,
     "metadata": {},
     "output_type": "execute_result"
    }
   ],
   "source": [
    "# Numărul de elemente dintr-un container de tip dicționar\n",
    "len(dict1)"
   ]
  },
  {
   "cell_type": "code",
   "execution_count": 67,
   "metadata": {
    "colab": {
     "base_uri": "https://localhost:8080/",
     "height": 34
    },
    "colab_type": "code",
    "id": "xt8S9rpBaZnR",
    "outputId": "e629a817-2598-4ebb-b58e-c3664e5ddb46"
   },
   "outputs": [
    {
     "data": {
      "text/plain": [
       "57"
      ]
     },
     "execution_count": 67,
     "metadata": {},
     "output_type": "execute_result"
    }
   ],
   "source": [
    "# Numărul de elemente dintr-un container de tip string\n",
    "len(string2)"
   ]
  },
  {
   "cell_type": "code",
   "execution_count": 68,
   "metadata": {
    "colab": {
     "base_uri": "https://localhost:8080/",
     "height": 34
    },
    "colab_type": "code",
    "id": "tAZDz4D2aZnT",
    "outputId": "0f8c843a-cdaa-401d-cd98-7a65e366062b"
   },
   "outputs": [
    {
     "data": {
      "text/plain": [
       "True"
      ]
     },
     "execution_count": 68,
     "metadata": {},
     "output_type": "execute_result"
    }
   ],
   "source": [
    "# Este un obiect apelabil?\n",
    "callable(len) # funcție/metodă\n"
   ]
  },
  {
   "cell_type": "code",
   "execution_count": 69,
   "metadata": {
    "colab": {
     "base_uri": "https://localhost:8080/",
     "height": 34
    },
    "colab_type": "code",
    "id": "wC9Ss-EUaZnU",
    "outputId": "edea6cee-6e9f-4584-af95-7d6f3055ab26"
   },
   "outputs": [
    {
     "data": {
      "text/plain": [
       "False"
      ]
     },
     "execution_count": 69,
     "metadata": {},
     "output_type": "execute_result"
    }
   ],
   "source": [
    "# Este un obiect apelabil?\n",
    "callable(dict1) # instanță de clasă"
   ]
  },
  {
   "cell_type": "code",
   "execution_count": 70,
   "metadata": {
    "colab": {
     "base_uri": "https://localhost:8080/",
     "height": 34
    },
    "colab_type": "code",
    "id": "_VSx6CV3aZnX",
    "outputId": "0d498526-8b17-4c8a-cee3-df0ea20cc3d7"
   },
   "outputs": [
    {
     "data": {
      "text/plain": [
       "[-3, 1, 2, 3.6, 5, 7, 10]"
      ]
     },
     "execution_count": 70,
     "metadata": {},
     "output_type": "execute_result"
    }
   ],
   "source": [
    "# Funcția sorted() pentru a returna o nouă listă ordonată cu elementele \n",
    "# din container\n",
    "sorted([10, 1, 3.6, 7, 5, 2, -3])"
   ]
  },
  {
   "cell_type": "code",
   "execution_count": 71,
   "metadata": {
    "colab": {
     "base_uri": "https://localhost:8080/",
     "height": 34
    },
    "colab_type": "code",
    "id": "dG2AmdwzaZnY",
    "outputId": "d301ec4a-0808-43d7-dddf-c9a8a1ccbaf3"
   },
   "outputs": [
    {
     "data": {
      "text/plain": [
       "['California', 'Chicago', 'ants', 'cats', 'dogs', 'mice', 'zebras']"
      ]
     },
     "execution_count": 71,
     "metadata": {},
     "output_type": "execute_result"
    }
   ],
   "source": [
    "# Funcția sorted() pentru a returna o nouă listă ordonată cu elementele \n",
    "# din container.\n",
    "# Remarcați faptul că literele majuscule sunt primele (ASCII)\n",
    "sorted(['dogs', 'cats', 'zebras', 'Chicago', 'California', 'ants', 'mice'])"
   ]
  },
  {
   "cell_type": "code",
   "execution_count": 72,
   "metadata": {
    "colab": {
     "base_uri": "https://localhost:8080/",
     "height": 34
    },
    "colab_type": "code",
    "id": "X2mOIErXaZna",
    "outputId": "caa582ea-3e47-4eb3-8f77-f47a1bd27c5a"
   },
   "outputs": [
    {
     "data": {
      "text/plain": [
       "25.6"
      ]
     },
     "execution_count": 72,
     "metadata": {},
     "output_type": "execute_result"
    }
   ],
   "source": [
    "# Suma elementelor conținute în container\n",
    "sum([10, 1, 3.6, 7, 5, 2, -3])"
   ]
  },
  {
   "cell_type": "code",
   "execution_count": 73,
   "metadata": {
    "colab": {
     "base_uri": "https://localhost:8080/",
     "height": 34
    },
    "colab_type": "code",
    "id": "MmuGtuGPaZnc",
    "outputId": "7ba4972d-8d9a-4f28-81b9-ec8da954723a"
   },
   "outputs": [
    {
     "data": {
      "text/plain": [
       "-3"
      ]
     },
     "execution_count": 73,
     "metadata": {},
     "output_type": "execute_result"
    }
   ],
   "source": [
    "# Minimul dintre elementele conținute în container\n",
    "min([10, 1, 3.6, 7, 5, 2, -3])"
   ]
  },
  {
   "cell_type": "code",
   "execution_count": 74,
   "metadata": {
    "colab": {
     "base_uri": "https://localhost:8080/",
     "height": 34
    },
    "colab_type": "code",
    "id": "sQbzAwHFaZnd",
    "outputId": "fbb2fb9b-8f9c-4905-d405-e88740045e67"
   },
   "outputs": [
    {
     "data": {
      "text/plain": [
       "'a'"
      ]
     },
     "execution_count": 74,
     "metadata": {},
     "output_type": "execute_result"
    }
   ],
   "source": [
    "# Minimul dintre elementele conținute în container\n",
    "min(['g', 'z', 'a', 'y'])"
   ]
  },
  {
   "cell_type": "code",
   "execution_count": 75,
   "metadata": {
    "colab": {
     "base_uri": "https://localhost:8080/",
     "height": 34
    },
    "colab_type": "code",
    "id": "Rf8dPQjxaZnf",
    "outputId": "0944c952-b3da-4c2a-d753-3e81dd7cb43e"
   },
   "outputs": [
    {
     "data": {
      "text/plain": [
       "10"
      ]
     },
     "execution_count": 75,
     "metadata": {},
     "output_type": "execute_result"
    }
   ],
   "source": [
    "# Maximul dintre elementele conținute în container\n",
    "max([10, 1, 3.6, 7, 5, 2, -3])"
   ]
  },
  {
   "cell_type": "code",
   "execution_count": 1,
   "metadata": {
    "colab": {
     "base_uri": "https://localhost:8080/",
     "height": 34
    },
    "colab_type": "code",
    "id": "eZAeud3caZng",
    "outputId": "9e8dab2f-d98d-469c-c7b7-fb1e51f2c9d9"
   },
   "outputs": [
    {
     "data": {
      "text/plain": [
       "'b'"
      ]
     },
     "execution_count": 1,
     "metadata": {},
     "output_type": "execute_result"
    }
   ],
   "source": [
    "# Minimum dintre elementele conținute în container\n",
    "min('gibberish')"
   ]
  },
  {
   "cell_type": "code",
   "execution_count": 77,
   "metadata": {
    "colab": {
     "base_uri": "https://localhost:8080/",
     "height": 34
    },
    "colab_type": "code",
    "id": "zJ2w8QnRaZni",
    "outputId": "0c74cc60-f64c-4e24-e5f6-2db70f0d75ee"
   },
   "outputs": [
    {
     "data": {
      "text/plain": [
       "10"
      ]
     },
     "execution_count": 77,
     "metadata": {},
     "output_type": "execute_result"
    }
   ],
   "source": [
    "# Modulul numărului:\n",
    "abs(-10)"
   ]
  },
  {
   "cell_type": "code",
   "execution_count": 78,
   "metadata": {
    "colab": {
     "base_uri": "https://localhost:8080/",
     "height": 34
    },
    "colab_type": "code",
    "id": "16R0faTRaZnn",
    "outputId": "baf72d64-7ea2-439e-fcd4-665576d39467"
   },
   "outputs": [
    {
     "data": {
      "text/plain": [
       "\"set([False, 3, 5, 6, 'dog', 'cat'])\""
      ]
     },
     "execution_count": 78,
     "metadata": {},
     "output_type": "execute_result"
    }
   ],
   "source": [
    "# Reprezentarea string a obiectului\n",
    "repr(set1)"
   ]
  },
  {
   "cell_type": "markdown",
   "metadata": {
    "colab_type": "text",
    "id": "V-XztrumaZnp"
   },
   "source": [
    "### 2.7.1. Metode specifice ale obiectelor de tip string\n",
    "\n",
    "- **`.capitalize()`** retunează stringul cu prima literă transformată în majusculă\n",
    "- **`.upper()`** returnează stringul cu toate literele transformate în majuscule\n",
    "- **`.lower()`** returnează stringul cu toate literele transformate în litere minuscule\n",
    "- **`.count(substring)`** returnează numărul de apariții ale substringului în string\n",
    "- **`.startswith(substring)`** determină dacă stringul începe cu substringul dat ca argument\n",
    "- **`.endswith(substring)`** determină dacă stringul se termină cu substringul dat ca argument\n",
    "- **`.replace(old, new)`** retunează o copie a stringului original în care aparițiile stringului `old` sunt înlocuite cu `new`"
   ]
  },
  {
   "cell_type": "code",
   "execution_count": 79,
   "metadata": {
    "colab": {},
    "colab_type": "code",
    "id": "qKGuU9H2aZnp"
   },
   "outputs": [],
   "source": [
    "# Atribuie un string la o variabilă\n",
    "a_string = 'tHis is a sTriNg'"
   ]
  },
  {
   "cell_type": "code",
   "execution_count": 80,
   "metadata": {
    "colab": {
     "base_uri": "https://localhost:8080/",
     "height": 34
    },
    "colab_type": "code",
    "id": "ycR_h0beaZnq",
    "outputId": "13d992fc-c2b0-4b5a-b4ab-75c0d369df7a"
   },
   "outputs": [
    {
     "data": {
      "text/plain": [
       "'This is a string'"
      ]
     },
     "execution_count": 80,
     "metadata": {},
     "output_type": "execute_result"
    }
   ],
   "source": [
    "# Versiunea capitalizată (prima literă majusculă) a stringului\n",
    "a_string.capitalize()"
   ]
  },
  {
   "cell_type": "code",
   "execution_count": 81,
   "metadata": {
    "colab": {
     "base_uri": "https://localhost:8080/",
     "height": 34
    },
    "colab_type": "code",
    "id": "bxhzjDqYaZnr",
    "outputId": "28f84f70-da8c-4636-8511-fd2f3a68639c"
   },
   "outputs": [
    {
     "data": {
      "text/plain": [
       "'THIS IS A STRING'"
      ]
     },
     "execution_count": 81,
     "metadata": {},
     "output_type": "execute_result"
    }
   ],
   "source": [
    "# Versiunea cu litere majuscule a stringului\n",
    "a_string.upper()"
   ]
  },
  {
   "cell_type": "code",
   "execution_count": 82,
   "metadata": {
    "colab": {
     "base_uri": "https://localhost:8080/",
     "height": 34
    },
    "colab_type": "code",
    "id": "xbe3wvuyaZnt",
    "outputId": "0360cb79-0346-403c-8f7b-0b8eb39521fb"
   },
   "outputs": [
    {
     "data": {
      "text/plain": [
       "'this is a string'"
      ]
     },
     "execution_count": 82,
     "metadata": {},
     "output_type": "execute_result"
    }
   ],
   "source": [
    "# Versiunea cu litere minuscule a stringului\n",
    "a_string.lower()"
   ]
  },
  {
   "cell_type": "code",
   "execution_count": 83,
   "metadata": {
    "colab": {
     "base_uri": "https://localhost:8080/",
     "height": 34
    },
    "colab_type": "code",
    "id": "Iim47nwkaZnu",
    "outputId": "26e88df9-8541-4024-f969-2c5184690198"
   },
   "outputs": [
    {
     "data": {
      "text/plain": [
       "'tHis is a sTriNg'"
      ]
     },
     "execution_count": 83,
     "metadata": {},
     "output_type": "execute_result"
    }
   ],
   "source": [
    "# Stringul inițial nu este modificat\n",
    "a_string"
   ]
  },
  {
   "cell_type": "code",
   "execution_count": 84,
   "metadata": {
    "colab": {
     "base_uri": "https://localhost:8080/",
     "height": 34
    },
    "colab_type": "code",
    "id": "Wb46et6waZnw",
    "outputId": "6344f9ca-e4b3-4788-ab09-6c17e3af8da0"
   },
   "outputs": [
    {
     "data": {
      "text/plain": [
       "3"
      ]
     },
     "execution_count": 84,
     "metadata": {},
     "output_type": "execute_result"
    }
   ],
   "source": [
    "# Numără aparițiile substringului în string\n",
    "a_string.count('i')"
   ]
  },
  {
   "cell_type": "code",
   "execution_count": 85,
   "metadata": {
    "colab": {
     "base_uri": "https://localhost:8080/",
     "height": 34
    },
    "colab_type": "code",
    "id": "Ghqy5JyHaZnx",
    "outputId": "14973c9a-786b-466f-935f-efc782964114"
   },
   "outputs": [
    {
     "data": {
      "text/plain": [
       "1"
      ]
     },
     "execution_count": 85,
     "metadata": {},
     "output_type": "execute_result"
    }
   ],
   "source": [
    "# Numără aparițiile substringului în string începând cu o anumită poziție din\n",
    "# stringul inițial\n",
    "a_string.count('i', 7)"
   ]
  },
  {
   "cell_type": "code",
   "execution_count": 86,
   "metadata": {
    "colab": {
     "base_uri": "https://localhost:8080/",
     "height": 34
    },
    "colab_type": "code",
    "id": "TujOWYbiaZnz",
    "outputId": "a93b472b-84aa-4b7b-c9a6-b107c41cf2b4"
   },
   "outputs": [
    {
     "data": {
      "text/plain": [
       "2"
      ]
     },
     "execution_count": 86,
     "metadata": {},
     "output_type": "execute_result"
    }
   ],
   "source": [
    "# Numără aparițiile substringului în string\n",
    "a_string.count('is')"
   ]
  },
  {
   "cell_type": "code",
   "execution_count": 87,
   "metadata": {
    "colab": {
     "base_uri": "https://localhost:8080/",
     "height": 34
    },
    "colab_type": "code",
    "id": "Wl2eq2H3aZn0",
    "outputId": "0409a40e-2145-41da-965a-cd6cb68b75cb"
   },
   "outputs": [
    {
     "data": {
      "text/plain": [
       "False"
      ]
     },
     "execution_count": 87,
     "metadata": {},
     "output_type": "execute_result"
    }
   ],
   "source": [
    "# Verifică dacă stringul începe cu this\n",
    "a_string.startswith('this')"
   ]
  },
  {
   "cell_type": "code",
   "execution_count": 88,
   "metadata": {
    "colab": {
     "base_uri": "https://localhost:8080/",
     "height": 34
    },
    "colab_type": "code",
    "id": "qHaCAfCJaZn1",
    "outputId": "c522be16-777d-422b-8c2e-e5f621b3bc8e"
   },
   "outputs": [
    {
     "data": {
      "text/plain": [
       "True"
      ]
     },
     "execution_count": 88,
     "metadata": {},
     "output_type": "execute_result"
    }
   ],
   "source": [
    "# Metodele pot fi înlănțuite atâta timp cât rezultatul metodei anterioare este de \n",
    "# tipul metodei curente.\n",
    "# Verifică dacă stringul în format cu litere minuscule începe cu 'this'\n",
    "a_string.lower().startswith('this')"
   ]
  },
  {
   "cell_type": "code",
   "execution_count": 89,
   "metadata": {
    "colab": {
     "base_uri": "https://localhost:8080/",
     "height": 34
    },
    "colab_type": "code",
    "id": "nCdFoe2jaZn3",
    "outputId": "b5d71e4f-b0d1-4a48-b4a1-f424ebda0151"
   },
   "outputs": [
    {
     "data": {
      "text/plain": [
       "True"
      ]
     },
     "execution_count": 89,
     "metadata": {},
     "output_type": "execute_result"
    }
   ],
   "source": [
    "# Verifică dacă stringul se termină 'Ng'\n",
    "a_string.endswith('Ng')"
   ]
  },
  {
   "cell_type": "code",
   "execution_count": 90,
   "metadata": {
    "colab": {
     "base_uri": "https://localhost:8080/",
     "height": 34
    },
    "colab_type": "code",
    "id": "VfLKYcxnaZn3",
    "outputId": "f051f105-3d11-4241-9219-9b50d0225f10"
   },
   "outputs": [
    {
     "data": {
      "text/plain": [
       "'tHXYZ XYZ a sTriNg'"
      ]
     },
     "execution_count": 90,
     "metadata": {},
     "output_type": "execute_result"
    }
   ],
   "source": [
    "# Returnează o copie a stringului în care \"is\" este înlocuit cu \"XYZ\"\n",
    "a_string.replace('is', 'XYZ')"
   ]
  },
  {
   "cell_type": "code",
   "execution_count": 91,
   "metadata": {
    "colab": {
     "base_uri": "https://localhost:8080/",
     "height": 34
    },
    "colab_type": "code",
    "id": "11q4kckqaZn5",
    "outputId": "522105e0-e54c-4a9f-d1f0-196c854f62ca"
   },
   "outputs": [
    {
     "data": {
      "text/plain": [
       "'tH!s !s a sTr!Ng'"
      ]
     },
     "execution_count": 91,
     "metadata": {},
     "output_type": "execute_result"
    }
   ],
   "source": [
    "# Returnează o copie a stringului în care \"i\" este înlocuit cu \"!\"\n",
    "a_string.replace('i', '!')"
   ]
  },
  {
   "cell_type": "code",
   "execution_count": 92,
   "metadata": {
    "colab": {
     "base_uri": "https://localhost:8080/",
     "height": 34
    },
    "colab_type": "code",
    "id": "KPK_pOQuaZn6",
    "outputId": "66795ec9-1b88-4da0-974e-13c6de84b39a"
   },
   "outputs": [
    {
     "data": {
      "text/plain": [
       "'tH!s !s a sTriNg'"
      ]
     },
     "execution_count": 92,
     "metadata": {},
     "output_type": "execute_result"
    }
   ],
   "source": [
    "# Returnează o versiune a stringului în care primele două apariții ale \"i\" \n",
    "# sunt înlocuite cu \"!\"\n",
    "a_string.replace('i', '!', 2)"
   ]
  },
  {
   "cell_type": "markdown",
   "metadata": {
    "colab_type": "text",
    "collapsed": true,
    "id": "kL82nA8aaZn7"
   },
   "source": [
    "### 2.3.5. Metode specifice ale obiectelor de tip listă\n",
    "\n",
    "- **`.append(item)`** adaugă un singur element în listă \n",
    "- **`.extend([item1, item2, ...])`** adaugă mei multe elemente în listă\n",
    "- **`.remove(item)`** șterge un element din listă\n",
    "- **`.pop()`** șterge și returnează ultimul element din listă\n",
    "- **`.pop(index)`** șterge și returnează un element de pe poziția dată"
   ]
  },
  {
   "cell_type": "code",
   "execution_count": 93,
   "metadata": {
    "colab": {},
    "colab_type": "code",
    "id": "1u6ZFV8iaZn8"
   },
   "outputs": [],
   "source": [
    "# Definire listă\n",
    "my_list = ['a', 'b', 'c']"
   ]
  },
  {
   "cell_type": "code",
   "execution_count": 94,
   "metadata": {
    "colab": {
     "base_uri": "https://localhost:8080/",
     "height": 34
    },
    "colab_type": "code",
    "id": "DV_JkiAqaZn9",
    "outputId": "9279cadb-6a6e-4335-99db-3d6d9ccb8cc3"
   },
   "outputs": [
    {
     "name": "stdout",
     "output_type": "stream",
     "text": [
      "['a', 'b', 'c', 'd']\n"
     ]
    }
   ],
   "source": [
    "# Adaugă un element la listă\n",
    "my_list.append('d')\n",
    "print(my_list)"
   ]
  },
  {
   "cell_type": "code",
   "execution_count": 95,
   "metadata": {
    "colab": {
     "base_uri": "https://localhost:8080/",
     "height": 34
    },
    "colab_type": "code",
    "id": "U8StKWzRaZoA",
    "outputId": "938a1b23-6e72-44aa-9ef7-27be4c37cd8c"
   },
   "outputs": [
    {
     "name": "stdout",
     "output_type": "stream",
     "text": [
      "['a', 'b', 'c', 'd', 'e', 'f']\n"
     ]
    }
   ],
   "source": [
    "# Adaugă două elemente la finalul listei\n",
    "my_list.extend(['e','f'])\n",
    "print(my_list)"
   ]
  },
  {
   "cell_type": "code",
   "execution_count": 96,
   "metadata": {
    "colab": {
     "base_uri": "https://localhost:8080/",
     "height": 34
    },
    "colab_type": "code",
    "id": "fWmnBafzaZoC",
    "outputId": "205a57e6-9a54-4481-e47a-b2777ea21606"
   },
   "outputs": [
    {
     "name": "stdout",
     "output_type": "stream",
     "text": [
      "['b', 'c', 'd', 'e', 'f']\n"
     ]
    }
   ],
   "source": [
    "# Șterge elementul ”a”\n",
    "my_list.remove('a')\n",
    "print(my_list)"
   ]
  },
  {
   "cell_type": "code",
   "execution_count": 97,
   "metadata": {
    "colab": {
     "base_uri": "https://localhost:8080/",
     "height": 34
    },
    "colab_type": "code",
    "id": "nliCWOqzaZoD",
    "outputId": "1c7e337b-7680-4de4-a627-338bb9c91096"
   },
   "outputs": [
    {
     "data": {
      "text/plain": [
       "'f'"
      ]
     },
     "execution_count": 97,
     "metadata": {},
     "output_type": "execute_result"
    }
   ],
   "source": [
    "# Returnează și șterge ultimul element din listă\n",
    "my_list.pop()"
   ]
  },
  {
   "cell_type": "code",
   "execution_count": 98,
   "metadata": {
    "colab": {
     "base_uri": "https://localhost:8080/",
     "height": 34
    },
    "colab_type": "code",
    "id": "t9xgj-61aZoF",
    "outputId": "c3d2aa69-7d72-4c81-8f18-fce3a9b1e7a6"
   },
   "outputs": [
    {
     "data": {
      "text/plain": [
       "'e'"
      ]
     },
     "execution_count": 98,
     "metadata": {},
     "output_type": "execute_result"
    }
   ],
   "source": [
    "# Șterge un element din listă de pe poziția dată\n",
    "my_list.pop(3)"
   ]
  },
  {
   "cell_type": "markdown",
   "metadata": {
    "colab_type": "text",
    "id": "-fd0J-dnaZoI"
   },
   "source": [
    "### 2.3.6 Metode specifice ale obiectelor de tip set\n",
    "\n",
    "- **`.add(item)`** adaugă un singur element în set\n",
    "- **`.update([item1, item2, ...])`** adaugă mai multe elemente în set\n",
    "- **`.update(set2, set3, ...)`** adaugă toate elementele din toate seturile date în setul inițial\n",
    "- **`.remove(item)`** elimină un singur element din set\n",
    "- **`.pop()`** șterge și returnează un singur element aleator din set\n",
    "- **`.difference(set2)`** returnează diferența dintre setul inițial și cel dat ca parametru\n",
    "- **`.intersection(set2)`** returnează elementele comune celor două seturi\n",
    "- **`.union(set2)`** returnează elementele comune și necomune celor două seturi (reuniunea)\n",
    "- **`.symmetric_difference(set2)`** returnează elementele ce sunt doar într-un set (nu în ambele)\n",
    "- **`.issuperset(set2)`** setul inițial conține toate elementele setului dat ca parametru?\n",
    "- **`.issubset(set2)`** este setul inițial un subset al setului dat?"
   ]
  },
  {
   "cell_type": "code",
   "execution_count": 99,
   "metadata": {
    "colab": {},
    "colab_type": "code",
    "id": "zOXT891xaZoJ"
   },
   "outputs": [
    {
     "name": "stdout",
     "output_type": "stream",
     "text": [
      "set([1, 2, 3])\n"
     ]
    }
   ],
   "source": [
    "# Definire set\n",
    "my_set = {1,2,3}\n",
    "print(my_set)"
   ]
  },
  {
   "cell_type": "code",
   "execution_count": 100,
   "metadata": {
    "colab": {
     "base_uri": "https://localhost:8080/",
     "height": 34
    },
    "colab_type": "code",
    "id": "4vX7w74GaZoN",
    "outputId": "955e58cc-7c0c-42c0-d09c-8f9072241729"
   },
   "outputs": [
    {
     "name": "stdout",
     "output_type": "stream",
     "text": [
      "set([1, 2, 3, 4])\n"
     ]
    }
   ],
   "source": [
    "# Adaugă un element\n",
    "my_set.add(4)\n",
    "print(my_set)"
   ]
  },
  {
   "cell_type": "code",
   "execution_count": 101,
   "metadata": {
    "colab": {
     "base_uri": "https://localhost:8080/",
     "height": 34
    },
    "colab_type": "code",
    "id": "JofZjczwaZoR",
    "outputId": "b085855d-5aab-4089-e6e6-b8a01ee3fe99"
   },
   "outputs": [
    {
     "name": "stdout",
     "output_type": "stream",
     "text": [
      "set([1, 2, 3, 4, 5, 6])\n"
     ]
    }
   ],
   "source": [
    "#adaugă elemente multiple la set\n",
    "my_set.update([3,4,5,6])\n",
    "print(my_set)"
   ]
  },
  {
   "cell_type": "code",
   "execution_count": 102,
   "metadata": {
    "colab": {
     "base_uri": "https://localhost:8080/",
     "height": 34
    },
    "colab_type": "code",
    "id": "k-w3D3JIaZoT",
    "outputId": "9aea202b-3979-434b-b12b-7d2de530367c"
   },
   "outputs": [
    {
     "name": "stdout",
     "output_type": "stream",
     "text": [
      "set([1, 2, 3, 4, 5, 6, 7, 8, 9, 10, 11])\n"
     ]
    }
   ],
   "source": [
    "# Adaugă elementele din alte două seturi\n",
    "my_second_set = {7,8,9}\n",
    "my_third_set = {10,11}\n",
    "my_set.update(my_second_set, my_third_set)\n",
    "print(my_set)"
   ]
  },
  {
   "cell_type": "markdown",
   "metadata": {
    "colab_type": "text",
    "id": "q-44TZgCaZoU"
   },
   "source": [
    "### 2.3.7. Metode specifice ale obiectelor de tip dicționar\n",
    "\n",
    "- **`.update([(key1, val1), (key2, val2), ...])`** adaugă mai multe perechi cheie-valoare la dict\n",
    "- **`.update(dict2)`** adaugă toate elementele unui alt dicționar\n",
    "- **`.pop(key)`** șterge cheia și returnează valoarea asociată (eroare dacă nu există cheia)\n",
    "- **`.pop(key, default_val)`** șterge cheia și returneză valoarea asociată (sau valoarea default dacă nu există cheia)\n",
    "- **`.get(key)`** returnează valoarea asociată unei anumite chei (sau None dacă nu există cheia)\n",
    "- **`.get(key, default_val)`** returnează valoarea asociată unei chei  (sau default_val dacă nu există cheia)\n",
    "- **`.keys()`** returnează lista cheilor din dicționar\n",
    "- **`.values()`** returnează lista valorilor din dicționar\n",
    "- **`.items()`** returnează perechile cheie-valoare din dicționar"
   ]
  },
  {
   "cell_type": "code",
   "execution_count": 103,
   "metadata": {
    "colab": {},
    "colab_type": "code",
    "id": "y21sSYy0aZoU"
   },
   "outputs": [],
   "source": [
    "# Definire dicționar\n",
    "my_dict = {1:\"Ana\", 2:\"Maria\", 3:\"Dan\", 4:\"Vlad\"}"
   ]
  },
  {
   "cell_type": "code",
   "execution_count": 104,
   "metadata": {
    "colab": {
     "base_uri": "https://localhost:8080/",
     "height": 34
    },
    "colab_type": "code",
    "id": "zwVL3KAnaZoW",
    "outputId": "5c15098d-f5b3-47b4-f8bd-0a847e1c4e34"
   },
   "outputs": [
    {
     "name": "stdout",
     "output_type": "stream",
     "text": [
      "{1: 'Ana', 2: 'Maria', 3: 'Dan', 4: 'Vlad', 5: 'Elena', 6: 'Alex'}\n"
     ]
    }
   ],
   "source": [
    "# Adaugă chei și valori în mod explicit\n",
    "my_dict.update([(5,\"Elena\"), (6, \"Alex\")])\n",
    "print(my_dict)"
   ]
  },
  {
   "cell_type": "code",
   "execution_count": 105,
   "metadata": {
    "colab": {
     "base_uri": "https://localhost:8080/",
     "height": 153
    },
    "colab_type": "code",
    "id": "rZkbqOhDaZoX",
    "outputId": "12d4bc59-2d69-4199-c088-9173780e4dc2"
   },
   "outputs": [
    {
     "data": {
      "text/plain": [
       "{1: 'Ana',\n",
       " 2: 'Maria',\n",
       " 3: 'Dan',\n",
       " 4: 'Vlad',\n",
       " 5: 'Elena',\n",
       " 6: 'Alex',\n",
       " 7: 'Dan',\n",
       " 8: 'Roxana'}"
      ]
     },
     "execution_count": 105,
     "metadata": {},
     "output_type": "execute_result"
    }
   ],
   "source": [
    "# Definim al doilea dicționar\n",
    "my_second_dict = {7:\"Dan\", 8:\"Roxana\"}\n",
    "# La update doar cheile trebuie să fie diferite\n",
    "my_dict.update(my_second_dict)\n",
    "my_dict"
   ]
  },
  {
   "cell_type": "code",
   "execution_count": 106,
   "metadata": {
    "colab": {
     "base_uri": "https://localhost:8080/",
     "height": 34
    },
    "colab_type": "code",
    "id": "W8oE2SzfaZoZ",
    "outputId": "c26f4693-0b7b-4cd9-c2a6-ea7b5280b428"
   },
   "outputs": [
    {
     "data": {
      "text/plain": [
       "'Dan'"
      ]
     },
     "execution_count": 106,
     "metadata": {},
     "output_type": "execute_result"
    }
   ],
   "source": [
    "# Returnează valoarea asociată cheii 3\n",
    "my_dict.get(3)"
   ]
  },
  {
   "cell_type": "code",
   "execution_count": 107,
   "metadata": {
    "colab": {
     "base_uri": "https://localhost:8080/",
     "height": 34
    },
    "colab_type": "code",
    "id": "enoU5y9PaZob",
    "outputId": "ccd30368-c80c-49a5-a4f8-20753ecaaf77"
   },
   "outputs": [
    {
     "data": {
      "text/plain": [
       "[1, 2, 3, 4, 5, 6, 7, 8]"
      ]
     },
     "execution_count": 107,
     "metadata": {},
     "output_type": "execute_result"
    }
   ],
   "source": [
    "# Returnează lista cheilor\n",
    "my_dict.keys()"
   ]
  },
  {
   "cell_type": "code",
   "execution_count": 108,
   "metadata": {
    "colab": {
     "base_uri": "https://localhost:8080/",
     "height": 34
    },
    "colab_type": "code",
    "id": "U36C4-d1aZoc",
    "outputId": "7169f9ba-5814-4cca-e5a9-8a065e71cad6"
   },
   "outputs": [
    {
     "data": {
      "text/plain": [
       "['Ana', 'Maria', 'Dan', 'Vlad', 'Elena', 'Alex', 'Dan', 'Roxana']"
      ]
     },
     "execution_count": 108,
     "metadata": {},
     "output_type": "execute_result"
    }
   ],
   "source": [
    "# returnează lista valorilor\n",
    "my_dict.values()"
   ]
  },
  {
   "cell_type": "code",
   "execution_count": 109,
   "metadata": {
    "colab": {
     "base_uri": "https://localhost:8080/",
     "height": 34
    },
    "colab_type": "code",
    "id": "omS8G_o2aZod",
    "outputId": "48fad189-7994-4ada-9c7d-3aaabf0c39b5"
   },
   "outputs": [
    {
     "data": {
      "text/plain": [
       "[(1, 'Ana'),\n",
       " (2, 'Maria'),\n",
       " (3, 'Dan'),\n",
       " (4, 'Vlad'),\n",
       " (5, 'Elena'),\n",
       " (6, 'Alex'),\n",
       " (7, 'Dan'),\n",
       " (8, 'Roxana')]"
      ]
     },
     "execution_count": 109,
     "metadata": {},
     "output_type": "execute_result"
    }
   ],
   "source": [
    "# Returnează lista perechilor cheie-valoare\n",
    "my_dict.items()"
   ]
  },
  {
   "cell_type": "code",
   "execution_count": 110,
   "metadata": {},
   "outputs": [
    {
     "data": {
      "text/plain": [
       "True"
      ]
     },
     "execution_count": 110,
     "metadata": {},
     "output_type": "execute_result"
    }
   ],
   "source": [
    "# Verifică dacă o cheie există în dicționar\n",
    "3 in my_dict"
   ]
  },
  {
   "cell_type": "markdown",
   "metadata": {
    "colab_type": "text",
    "id": "PN35lrY0aZoe"
   },
   "source": [
    "## 2.8. Afișare, formatare stringuri și utilizarea specificatorilor de tip\n",
    "\n",
    "Afișarea în Python se face în mod similar cu cea din C, unde **specificatorii de format** sunt utilizați pentru a afișa variabilele într-un mod predefinit:\n",
    "\n",
    "\n",
    "- `%s` - string (sau orice alt obiect cu reprezentare String)\n",
    "\n",
    "- `%d` - întregi\n",
    "\n",
    "- `%f` - valori reale\n",
    "\n",
    "- `%.<number of digits>f` - valori reale cu un număr specific de cifre zecimale\n",
    "\n",
    "- `%x/%X` - întregi în reprezentare hexa (lowercase/uppercase)\n"
   ]
  },
  {
   "cell_type": "code",
   "execution_count": 111,
   "metadata": {
    "colab": {},
    "colab_type": "code",
    "id": "Lcet-FEyaZof"
   },
   "outputs": [],
   "source": [
    "name = \"Maria\"\n",
    "age = 21"
   ]
  },
  {
   "cell_type": "code",
   "execution_count": 112,
   "metadata": {
    "colab": {
     "base_uri": "https://localhost:8080/",
     "height": 34
    },
    "colab_type": "code",
    "id": "ck4aXWLUaZog",
    "outputId": "d5475a8b-e33f-449a-808f-5aa0a309bad0"
   },
   "outputs": [
    {
     "name": "stdout",
     "output_type": "stream",
     "text": [
      "Hello, my name is Maria\n"
     ]
    }
   ],
   "source": [
    "print (\"Hello, my name is %s\" %name)"
   ]
  },
  {
   "cell_type": "code",
   "execution_count": 113,
   "metadata": {
    "colab": {
     "base_uri": "https://localhost:8080/",
     "height": 34
    },
    "colab_type": "code",
    "id": "y1vdTt3SaZoh",
    "outputId": "40fe9c4f-2674-4155-dd40-c5ddeb658c68"
   },
   "outputs": [
    {
     "name": "stdout",
     "output_type": "stream",
     "text": [
      "Hello, my name is Maria and I am 21 years old.\n"
     ]
    }
   ],
   "source": [
    "print (\"Hello, my name is %s and I am %d years old.\" %(name, age))"
   ]
  },
  {
   "cell_type": "markdown",
   "metadata": {
    "colab_type": "text",
    "id": "7Mfir6GwaZoi"
   },
   "source": [
    "Alternativ, se poate utiliza concatenarea de stringuri sau funcția `print()` cu argumente multiple:"
   ]
  },
  {
   "cell_type": "code",
   "execution_count": 114,
   "metadata": {
    "colab": {
     "base_uri": "https://localhost:8080/",
     "height": 34
    },
    "colab_type": "code",
    "id": "7JwDBqbHaZoj",
    "outputId": "6b8c8a83-2341-4eea-a000-25153bbcbb4e"
   },
   "outputs": [
    {
     "name": "stdout",
     "output_type": "stream",
     "text": [
      "Hello my name is Maria and I am 21 years old.\n"
     ]
    }
   ],
   "source": [
    "print (\"Hello my name is \" + name + \" and I am \"+ str(age)+\" years old.\")"
   ]
  },
  {
   "cell_type": "code",
   "execution_count": 115,
   "metadata": {
    "colab": {
     "base_uri": "https://localhost:8080/",
     "height": 34
    },
    "colab_type": "code",
    "id": "mQ3AsgSCaZol",
    "outputId": "8124345c-2cef-40ac-b24a-80e07b2ac6cc"
   },
   "outputs": [
    {
     "name": "stdout",
     "output_type": "stream",
     "text": [
      "('Hello my name is ', 'Maria', ' and I am ', 21, ' years old.')\n"
     ]
    }
   ],
   "source": [
    "print (\"Hello my name is \", name, \" and I am \", age ,\" years old.\")"
   ]
  },
  {
   "cell_type": "markdown",
   "metadata": {
    "colab_type": "text",
    "id": "btUfI1e7aZoq"
   },
   "source": [
    "## 2.9. Instrucțiuni de control Python\n",
    "\n",
    "Până în acest moment, am discutat doar despre datele disponibile în limbajul Python. În continuare vom introduce o serie de instrucțiuni necesare procesării acestor date sau instrucțiuni de control."
   ]
  },
  {
   "cell_type": "markdown",
   "metadata": {},
   "source": [
    "### 2.9.1. Instrucțiunea ciclică `while`\n",
    "\n",
    "Instrucțiunea ciclică `while` repetă execuția unui set de instrucțiuni atât timp cât condiția inițială este adevărată. \n",
    "\n",
    "> Notă: Există posibilitatea iterării infinite în cadrul instrucțiunii `while`, dacă expresia condițională nu devine `False`. Este necesară modificarea variabilei de test în interiorul instrucțiunii."
   ]
  },
  {
   "cell_type": "code",
   "execution_count": 116,
   "metadata": {},
   "outputs": [
    {
     "name": "stdout",
     "output_type": "stream",
     "text": [
      "5\n",
      "4\n",
      "3\n",
      "2\n",
      "1\n"
     ]
    }
   ],
   "source": [
    "# Instrucțiune while ce decrementează o variabilă\n",
    "i = 5\n",
    "while i > 0:\n",
    "    print (i)\n",
    "    i-=1"
   ]
  },
  {
   "cell_type": "code",
   "execution_count": 117,
   "metadata": {},
   "outputs": [
    {
     "name": "stdout",
     "output_type": "stream",
     "text": [
      "abcd\n",
      "bcd\n",
      "cd\n",
      "d\n"
     ]
    }
   ],
   "source": [
    "# Instrucțiune while ce parcurge un string\n",
    "s = 'abcd'\n",
    "while s:\n",
    "    print (s)\n",
    "    s = s[1:]"
   ]
  },
  {
   "cell_type": "markdown",
   "metadata": {},
   "source": [
    "Instrucțiunea `while` în Python permite utilizarea unei ramuri de `else` ce se execută atunci când se iese din `while` în mod normal, fără utilizarea unor instrucțiuni de salt de tipul `break` (vor fi discutate ulterior):"
   ]
  },
  {
   "cell_type": "code",
   "execution_count": 1,
   "metadata": {},
   "outputs": [
    {
     "name": "stdout",
     "output_type": "stream",
     "text": [
      "5\n",
      "3\n",
      "1\n",
      "Normal exit\n"
     ]
    }
   ],
   "source": [
    "# Ieșirea pe ramura else din while\n",
    "i = 5 \n",
    "while i>0:\n",
    "    print (i)\n",
    "    i-=2\n",
    "else:\n",
    "    print (\"Normal exit\")"
   ]
  },
  {
   "cell_type": "markdown",
   "metadata": {
    "colab_type": "text",
    "id": "lQamgU9DaZor"
   },
   "source": [
    "### 2.9.2. Instrucțiunea ciclică  `for`\n",
    "\n",
    "Instrucțiunea ciclică `for` permite iterarea unui set de instrucțiuni pentru un număr fix de iterații. Spre deosebire de limbajul standard C/C++ în care se utilizează un contor pentru a controla numărul de iterații, în Python instrucțiunea `for` este de tipul `for_each`. Aceasta înseamnă că necesită un obiect de tip secvență sau obiect iterabil ce va genera un set de date a cărui lungime este egală cu numărul de iterații ale buclei `for`. \n",
    "\n",
    "Stringurile, listele, tuplurile, seturile și dicționarele sunt obiecte de tip container **iterabile**.\n",
    "\n",
    "> **(OBS)** Deoarece bucla **for** iterează peste elementele unui container atât timp cât mai există elemente în acesta, nu este nevoie de o condiție de ieșire din buclă"
   ]
  },
  {
   "cell_type": "code",
   "execution_count": 119,
   "metadata": {
    "colab": {
     "base_uri": "https://localhost:8080/",
     "height": 136
    },
    "colab_type": "code",
    "id": "NUE3kW1faZor",
    "outputId": "1c91894b-b38a-4f6a-e1fe-f82ef615bb04"
   },
   "outputs": [
    {
     "name": "stdout",
     "output_type": "stream",
     "text": [
      "1\n",
      "2\n",
      "3\n",
      "4\n",
      "5\n",
      "6\n",
      "7\n"
     ]
    }
   ],
   "source": [
    "# Iterare listă de întregi\n",
    "my_list = [1,2,3,4,5,6,7]\n",
    "for i in my_list:\n",
    "    print (i)"
   ]
  },
  {
   "cell_type": "code",
   "execution_count": 120,
   "metadata": {
    "colab": {
     "base_uri": "https://localhost:8080/",
     "height": 102
    },
    "colab_type": "code",
    "id": "M9sDPYw1aZor",
    "outputId": "9730772d-2ad5-4b73-b030-62bed2d5258a"
   },
   "outputs": [
    {
     "name": "stdout",
     "output_type": "stream",
     "text": [
      "a\n",
      "b\n",
      "c\n",
      "d\n",
      "e\n"
     ]
    }
   ],
   "source": [
    "# Iterare listă de caractere\n",
    "my_list = ['a','b','c','d','e']\n",
    "for c in my_list:\n",
    "    print (c)"
   ]
  },
  {
   "cell_type": "code",
   "execution_count": 121,
   "metadata": {
    "colab": {
     "base_uri": "https://localhost:8080/",
     "height": 187
    },
    "colab_type": "code",
    "id": "QJhEQDm0aZot",
    "outputId": "49da1f82-7de2-42cf-85bf-5a5fe80e6f28"
   },
   "outputs": [
    {
     "name": "stdout",
     "output_type": "stream",
     "text": [
      "0\n",
      "1\n",
      "2\n",
      "3\n",
      "4\n"
     ]
    }
   ],
   "source": [
    "# Iterare domeniu specific [0,10) - funcția range retunează o listă de întregi\n",
    "for i in range(5):\n",
    "    print (i)"
   ]
  },
  {
   "cell_type": "code",
   "execution_count": 122,
   "metadata": {
    "colab": {
     "base_uri": "https://localhost:8080/",
     "height": 153
    },
    "colab_type": "code",
    "id": "lrOmIC7DaZov",
    "outputId": "fac7c8fe-f515-4eee-9b56-133df2585e4e"
   },
   "outputs": [
    {
     "name": "stdout",
     "output_type": "stream",
     "text": [
      "2\n",
      "3\n",
      "4\n",
      "5\n",
      "6\n",
      "7\n"
     ]
    }
   ],
   "source": [
    "# Iterare domeniu specific [2,8]\n",
    "for i in range(2,8):\n",
    "    print (i)"
   ]
  },
  {
   "cell_type": "code",
   "execution_count": 123,
   "metadata": {
    "colab": {
     "base_uri": "https://localhost:8080/",
     "height": 68
    },
    "colab_type": "code",
    "id": "RYB5VNumaZoy",
    "outputId": "c436f680-d531-4b7b-c3e9-f331155c7820"
   },
   "outputs": [
    {
     "name": "stdout",
     "output_type": "stream",
     "text": [
      "2\n",
      "5\n",
      "8\n"
     ]
    }
   ],
   "source": [
    "# Iterare domeniu specific cu incrementarea variabilei cu o valoare fixă\n",
    "for i in range(2,10,3):\n",
    "    print (i)"
   ]
  },
  {
   "cell_type": "code",
   "execution_count": 124,
   "metadata": {
    "colab": {
     "base_uri": "https://localhost:8080/",
     "height": 102
    },
    "colab_type": "code",
    "id": "Qg5le0LLaZoz",
    "outputId": "c8a2f6e4-8431-4839-9c6d-0b6f7f4a9c45"
   },
   "outputs": [
    {
     "name": "stdout",
     "output_type": "stream",
     "text": [
      "10\n",
      "8\n",
      "6\n",
      "4\n",
      "2\n"
     ]
    }
   ],
   "source": [
    "# Iterre domeniu specific cu decrementarea variabilei cu o valoare fixă\n",
    "for i in range(10,0,-2):\n",
    "    print (i)"
   ]
  },
  {
   "cell_type": "markdown",
   "metadata": {
    "colab_type": "text",
    "id": "dEuMIKVcaZo1"
   },
   "source": [
    "### 2.9.3. Instrucțiunea condițională `if`\n",
    "\n",
    "Instrucțiunea `if` permite testarea unei condiții și executarea unui set de instrucțiuni în cazul în care condiția e evaluată ca fiind `True`. Se pot adăuga ramuri de `elif` și `else` pentru a executa un set de instrucțiuni alternative atunci când condiția este `False`.\n"
   ]
  },
  {
   "cell_type": "code",
   "execution_count": 125,
   "metadata": {
    "colab": {
     "base_uri": "https://localhost:8080/",
     "height": 34
    },
    "colab_type": "code",
    "id": "Vy897H0raZo1",
    "outputId": "77efc672-93ee-4be7-def6-fcbca14dda68"
   },
   "outputs": [
    {
     "name": "stdout",
     "output_type": "stream",
     "text": [
      "Max is b\n"
     ]
    }
   ],
   "source": [
    "# Instrucțiune if simplă\n",
    "a = 3\n",
    "b = 5\n",
    "if (a>b):\n",
    "    print (\"Max is a\")\n",
    "else:\n",
    "    print (\"Max is b\")"
   ]
  },
  {
   "cell_type": "code",
   "execution_count": 126,
   "metadata": {
    "colab": {
     "base_uri": "https://localhost:8080/",
     "height": 34
    },
    "colab_type": "code",
    "id": "3SZzNaAraZo2",
    "outputId": "64a658b4-b366-4689-943f-ee81b03758cc"
   },
   "outputs": [
    {
     "name": "stdout",
     "output_type": "stream",
     "text": [
      "B and C are both max\n"
     ]
    }
   ],
   "source": [
    "# Instrucțiune if imbricată cu ramuri elif\n",
    "a = 2\n",
    "b = 7\n",
    "c = 7\n",
    "if (a>b):\n",
    "    if (a>c):\n",
    "        print (\"Max is A\")\n",
    "    elif (c>a):\n",
    "        print (\"Max is C\")\n",
    "    else:\n",
    "        print (\"A and C are both max\")\n",
    "elif (b>a):\n",
    "    if (b>c):\n",
    "        print (\"Max is B\")\n",
    "    elif (c>b):\n",
    "        print (\"Max is C\")\n",
    "    else:\n",
    "        print (\"B and C are both max\")\n",
    "else:\n",
    "    if (a>c):\n",
    "        print (\"A and B are both max\")\n",
    "    elif (c>a):\n",
    "        print (\"Max is C\")\n",
    "    else:\n",
    "        print (\"A, B and C are all max\")\n",
    "        \n"
   ]
  },
  {
   "cell_type": "code",
   "execution_count": 127,
   "metadata": {},
   "outputs": [
    {
     "data": {
      "text/plain": [
       "5"
      ]
     },
     "execution_count": 127,
     "metadata": {},
     "output_type": "execute_result"
    }
   ],
   "source": [
    "# Operator ternar sub formă de instrucțiune if\n",
    "a = 3\n",
    "b = 5\n",
    "a if a>b else b"
   ]
  },
  {
   "cell_type": "markdown",
   "metadata": {},
   "source": [
    "### 2.9.4. Instrucțiuni de salt: `break`, `continue`, `pass`\n",
    "\n",
    "În cadrul instrucțiunilor ciclice, este nevoie uneori ca acestea să-și termine execuția în mod forțat, independent de iterator sau condiție de test. Pentru aceasta există două instrucțiuni de salt: `break` și `continue` ce au efect doar dacă se află în interiorul unor instrucțiuni ciclice de tipul `while` sau `for`.\n",
    "\n",
    "Instrucțiunea `break` va forța ieșirea din bucla curentă și nu va mai executa nici o altă instrucțiune din această buclă. Dacă sunt mai mult bucle imbricate, aceasta va ieși doar din cea curentă. \n",
    "\n",
    "Instrucțiunea `continue` va sări la următoarea iterație din buclă sau la testarea condiției inițiale fără a mai executa restul instrucțiunilor, însă fără a ieși din buclă.\n",
    "\n",
    "Instrucțiunea `pass` este instrucțiunea vidă și nu are niciun efect programatic. Este folosită ca și placeholder în cod ce trebuie completat ulterior."
   ]
  },
  {
   "cell_type": "code",
   "execution_count": 128,
   "metadata": {},
   "outputs": [
    {
     "name": "stdout",
     "output_type": "stream",
     "text": [
      "5\n",
      "4\n"
     ]
    }
   ],
   "source": [
    "# Exemplu break în while: nu se executa bucla după ce i ajunge la valoarea 3\n",
    "i = 5\n",
    "while i > 0:\n",
    "    if i==3:\n",
    "        break \n",
    "    print (i)\n",
    "    i-=1"
   ]
  },
  {
   "cell_type": "code",
   "execution_count": 129,
   "metadata": {},
   "outputs": [
    {
     "name": "stdout",
     "output_type": "stream",
     "text": [
      "5\n",
      "4\n",
      "2\n",
      "1\n"
     ]
    }
   ],
   "source": [
    "# Exemplu continue în while: se sare peste restul instrucțiunilor când i ajunge la valoarea 3\n",
    "# Trebuie să avem grijă să actualizăm variabila de test înainte de salt\n",
    "i = 5\n",
    "while i > 0:\n",
    "    if i==3:\n",
    "        i-=1\n",
    "        continue \n",
    "    print (i)\n",
    "    i-=1"
   ]
  },
  {
   "cell_type": "code",
   "execution_count": 130,
   "metadata": {},
   "outputs": [
    {
     "name": "stdout",
     "output_type": "stream",
     "text": [
      "5\n",
      "4\n",
      "3\n",
      "2\n",
      "1\n"
     ]
    }
   ],
   "source": [
    "# Exemplu pass în while: nu se întâmplă nimic, bucla se execută normal\n",
    "\n",
    "i = 5\n",
    "while i > 0:\n",
    "    if i==3:\n",
    "        pass \n",
    "    print (i)\n",
    "    i-=1"
   ]
  },
  {
   "cell_type": "code",
   "execution_count": 131,
   "metadata": {},
   "outputs": [
    {
     "name": "stdout",
     "output_type": "stream",
     "text": [
      "0\n",
      "1\n",
      "2\n"
     ]
    }
   ],
   "source": [
    "# Exemplu break în for: nu se executa bucla după ce i ajunge la valoarea 3\n",
    "for i in range(5):\n",
    "    if i==3:\n",
    "        break \n",
    "    print (i)\n",
    "    i-=1"
   ]
  },
  {
   "cell_type": "code",
   "execution_count": 132,
   "metadata": {},
   "outputs": [
    {
     "name": "stdout",
     "output_type": "stream",
     "text": [
      "0\n",
      "1\n",
      "2\n",
      "4\n"
     ]
    }
   ],
   "source": [
    "# Exemplu continue în for:  se sare peste restul instrucțiunilor când i ajunge la valoarea 3\n",
    "for i in range(5):\n",
    "    if i==3:\n",
    "        continue \n",
    "    print (i)\n",
    "    i-=1"
   ]
  },
  {
   "cell_type": "markdown",
   "metadata": {
    "colab_type": "text",
    "id": "34PfwYKzaZo4"
   },
   "source": [
    "## 2.10. Accesul la cod extern (import)"
   ]
  },
  {
   "cell_type": "markdown",
   "metadata": {
    "colab_type": "text",
    "collapsed": true,
    "id": "3NHHM4rzaZo5"
   },
   "source": [
    "Reutilizarea codului este unul dintre cele mai importante aspecte ale programării și permite definirea unui set de funcții sau clase în mod independent ce pot fi incluse ulterior în alte coduri sau aplicații conexe. În Python, organizarea codului extern se face prin intermediul **modulelor**.\n",
    "\n",
    "**Modulele** sunt fișiere externe ce conțin clase, funcții și definiții de constante. Modulul trebuie să fie accesibil codului curent prin calea de system (*system path*) sau prin calea curentă (*current path*). \n",
    "Pentru ca un modul să fie disponibil în codul curent, se utilizează cuvântul cheie `import` cu următoarele opțiuni de sintaxă:\n",
    "\n",
    "- `import module_name`\n",
    "- `import module_name as m`  - folosește un alias pentru numele modulului\n",
    "- `from module_name import submodule ` - importă doar un submodul al modulului\n",
    "- `from module import * ` - importă toate clasele, funcțiile și constantele fără a fi necesară utilizarea numelui modulului înainte de acestea"
   ]
  },
  {
   "cell_type": "code",
   "execution_count": 133,
   "metadata": {
    "colab": {
     "base_uri": "https://localhost:8080/",
     "height": 34
    },
    "colab_type": "code",
    "id": "Yxe_J5WPaZo5",
    "outputId": "3aabbb4a-f7a2-4f25-a9b2-0a4e34ca0131"
   },
   "outputs": [
    {
     "data": {
      "text/plain": [
       "5.0"
      ]
     },
     "execution_count": 133,
     "metadata": {},
     "output_type": "execute_result"
    }
   ],
   "source": [
    "# Importăm modulul math\n",
    "import math\n",
    "math.sqrt(25)"
   ]
  },
  {
   "cell_type": "code",
   "execution_count": 134,
   "metadata": {
    "colab": {
     "base_uri": "https://localhost:8080/",
     "height": 34
    },
    "colab_type": "code",
    "id": "xQaoHhHJaZo6",
    "outputId": "2c916c66-aacd-469b-bfd4-c24edfc11c5d"
   },
   "outputs": [
    {
     "data": {
      "text/plain": [
       "5.0"
      ]
     },
     "execution_count": 134,
     "metadata": {},
     "output_type": "execute_result"
    }
   ],
   "source": [
    "# Importăm modulul math și îi atribuim un alias\n",
    "import math as m\n",
    "m.sqrt(25)"
   ]
  },
  {
   "cell_type": "code",
   "execution_count": 135,
   "metadata": {
    "colab": {
     "base_uri": "https://localhost:8080/",
     "height": 34
    },
    "colab_type": "code",
    "id": "JYBUJe8RaZo7",
    "outputId": "340c359f-f7be-4c37-f741-74519be37548"
   },
   "outputs": [
    {
     "data": {
      "text/plain": [
       "5.0"
      ]
     },
     "execution_count": 135,
     "metadata": {},
     "output_type": "execute_result"
    }
   ],
   "source": [
    "# Importăm toate funcțiile din modulul math fără a mai fi necesară utilizarea numelui său\n",
    "from math import *\n",
    "sqrt(25)"
   ]
  },
  {
   "cell_type": "markdown",
   "metadata": {
    "colab_type": "text",
    "id": "-Exeih_6aZpE"
   },
   "source": [
    "## 2.11. Lucrul cu fișiere\n",
    "\n",
    "Citirea și scrierea datelor din/în fișiere externe este esențială în majoritatea aplicațiilor programatice. Fișierele se pot afla pe un disc local sau la o adresă URL și pot fi stocate în format text sau binar. \n",
    "\n",
    "Cele mai importante funcții de lucru cu fișierele sunt prezentate mai jos:"
   ]
  },
  {
   "cell_type": "markdown",
   "metadata": {
    "colab_type": "text",
    "id": "5d4jwLAMaZpE"
   },
   "source": [
    "- Deschiderea fișierelor: `f = open(file_path_and_name, 'read_mode')`\n",
    "\n",
    "    - **read_mode** poate fi *'w'* pentru scriere/creare, *'r'* pentru citire și *'a'* pentru adăugare la final (append). Când este utilizat modul 'w', dacă fișierul nu există, acesta este creat. Dacă există, conținutul este **șters**. Dacă nu se dorește ștergerea conținutului, se poate utiliza modul 'a'. Pentru fișiere binare se adaugă modul *'b'*, ex. *'wb'*.\n",
    "\n",
    "    - **file_path_and_name** conține calea absolută sau relativă către fișier.\n",
    "\n",
    "\n",
    "- Închiderea unui fișier: `f.close()`. Aveți grijă să închideți toate fluxurile de fișier pe care le deschideți.\n",
    "\n",
    "- Citirea din fișier: \n",
    "    - `f.read()` - returnează întreg conținutul fișierului în format string\n",
    "\n",
    "    -`f.readlines()` - returnează o listă a liniilor individuale conținute în fișier\n",
    "\n",
    "- Scrierea în fișier: \n",
    "    - `f.write(string)` - scrie stringul în fișier\n",
    "\n",
    "    - `f.writeline(list_of_strings)` - scrie o listă de stringuri în fișier\n",
    "\n",
    "\n"
   ]
  },
  {
   "cell_type": "code",
   "execution_count": 136,
   "metadata": {
    "colab": {},
    "colab_type": "code",
    "id": "3tarElLyaZpE"
   },
   "outputs": [],
   "source": [
    "# Crează un fișier denumit test.txt și scrie o linie în el\n",
    "f = open(\"test.txt\", 'w')\n",
    "f.write(\"Hello, this a line\\n\")\n",
    "f.close()"
   ]
  },
  {
   "cell_type": "code",
   "execution_count": 137,
   "metadata": {
    "colab": {},
    "colab_type": "code",
    "id": "vWNsUwlCaZpF"
   },
   "outputs": [],
   "source": [
    "# Adaugă alte linii la fișier\n",
    "f = open(\"test.txt\", 'a')\n",
    "f.writelines([\"A second line\\n\", \"A third line\\n\"])\n",
    "f.close()"
   ]
  },
  {
   "cell_type": "code",
   "execution_count": 138,
   "metadata": {
    "colab": {
     "base_uri": "https://localhost:8080/",
     "height": 119
    },
    "colab_type": "code",
    "id": "lgxsdKcOaZpG",
    "outputId": "36ca7445-77a9-4990-bcf8-f7de9f6c26eb"
   },
   "outputs": [
    {
     "name": "stdout",
     "output_type": "stream",
     "text": [
      "Hello, this a line\n",
      "\n",
      "A second line\n",
      "\n",
      "A third line\n",
      "\n"
     ]
    }
   ],
   "source": [
    "# Citește conținutul fișierului și îl afișează\n",
    "f = open(\"test.txt\", 'r')\n",
    "for line in f.readlines():\n",
    "    print (line)\n",
    "f.close()"
   ]
  },
  {
   "cell_type": "markdown",
   "metadata": {
    "colab_type": "text",
    "id": "6GW-wTZwaZpH"
   },
   "source": [
    "### 2.11.1. Manageri de context și instrucțiunea `with`\n",
    "\n",
    "O metodă mai bună de deschidere a fișierelor și de a ne asigura că acestea sunt închise la final este prin utilizarea instrucțiunii `with`. Aceasta va crea un manager de conținut și se va asigura că fișierul este închis la ieșirea din blocul de instrucțiuni, indiferent de rezultatul acestora."
   ]
  },
  {
   "cell_type": "code",
   "execution_count": 139,
   "metadata": {
    "colab": {
     "base_uri": "https://localhost:8080/",
     "height": 119
    },
    "colab_type": "code",
    "id": "R7U-annuaZpJ",
    "outputId": "70b4fa13-f1db-42d3-f3ca-ca88934e2dcd"
   },
   "outputs": [
    {
     "name": "stdout",
     "output_type": "stream",
     "text": [
      "Hello, this a line\n",
      "\n",
      "A second line\n",
      "\n",
      "A third line\n",
      "\n"
     ]
    }
   ],
   "source": [
    "with open(\"test.txt\") as f:\n",
    "    for line in f.readlines():\n",
    "        print (line)"
   ]
  },
  {
   "cell_type": "markdown",
   "metadata": {},
   "source": [
    "# Concluzii\n",
    "\n",
    "În cadrul acestui prim tutorial am indexat o serie minimală de noțiuni și instrucțiuni necesare programării în limbajul Python. În niciun caz acest tutorial nu își propune să introducă totalitatea elementul din programarea Python, ci doar pe acelea ce sunt necesare în cadrul următoarelor tutoriale și pentru lucru cu script-uri de bază. "
   ]
  }
 ],
 "metadata": {
  "colab": {
   "collapsed_sections": [],
   "name": "T00. Jupyter si Python intro (RO).ipynb",
   "provenance": [],
   "toc_visible": true,
   "version": "0.3.2"
  },
  "kernelspec": {
   "display_name": "Python 3",
   "language": "python",
   "name": "python3"
  },
  "language_info": {
   "codemirror_mode": {
    "name": "ipython",
    "version": 3
   },
   "file_extension": ".py",
   "mimetype": "text/x-python",
   "name": "python",
   "nbconvert_exporter": "python",
   "pygments_lexer": "ipython3",
   "version": "3.7.5"
  }
 },
 "nbformat": 4,
 "nbformat_minor": 1
}
